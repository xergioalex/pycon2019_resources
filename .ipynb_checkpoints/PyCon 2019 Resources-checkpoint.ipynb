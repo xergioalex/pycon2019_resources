{
 "cells": [
  {
   "cell_type": "code",
   "execution_count": 1,
   "metadata": {
    "slideshow": {
     "slide_type": "skip"
    }
   },
   "outputs": [
    {
     "name": "stdout",
     "output_type": "stream",
     "text": [
      "Collecting cython\n",
      "\u001b[?25l  Downloading https://files.pythonhosted.org/packages/16/98/49aa24054e99e9c7734e49d6996662f547e4e2faae0051d35fbbc461afa4/Cython-0.29.5-cp36-cp36m-manylinux1_x86_64.whl (2.1MB)\n",
      "\u001b[K    100% |████████████████████████████████| 2.1MB 433kB/s ta 0:00:01\n",
      "\u001b[?25hCollecting numba\n",
      "\u001b[?25l  Downloading https://files.pythonhosted.org/packages/21/61/6786a3eed0b546ebda290760755c4680f0b28f3e04f83e23f007f1fad241/numba-0.42.1-cp36-cp36m-manylinux1_x86_64.whl (3.2MB)\n",
      "\u001b[K    100% |████████████████████████████████| 3.2MB 483kB/s ta 0:00:01\n",
      "\u001b[?25hCollecting jupyter-plotly-dash\n",
      "  Downloading https://files.pythonhosted.org/packages/b9/b4/a27c4a553ff093661df3ea1bc8ca440a0ba7f833f18430ee8ba60044930e/jupyter-plotly-dash-0.2.0.tar.gz\n",
      "Collecting pandas\n",
      "\u001b[?25l  Downloading https://files.pythonhosted.org/packages/e6/de/a0d3defd8f338eaf53ef716e40ef6d6c277c35d50e09b586e170169cdf0d/pandas-0.24.1-cp36-cp36m-manylinux1_x86_64.whl (10.1MB)\n",
      "\u001b[K    100% |████████████████████████████████| 10.1MB 348kB/s ta 0:00:01\n",
      "\u001b[?25hCollecting llvmlite>=0.27.0dev0 (from numba)\n",
      "\u001b[?25l  Downloading https://files.pythonhosted.org/packages/71/f5/ed9af288084b4f0cc2e4db0c3be57ba0442ed837135a9c2607c3a1309790/llvmlite-0.27.1-cp36-cp36m-manylinux1_x86_64.whl (17.1MB)\n",
      "\u001b[K    100% |████████████████████████████████| 17.1MB 400kB/s ta 0:00:01\n",
      "\u001b[?25hCollecting numpy (from numba)\n",
      "\u001b[?25l  Downloading https://files.pythonhosted.org/packages/f5/bf/4981bcbee43934f0adb8f764a1e70ab0ee5a448f6505bd04a87a2fda2a8b/numpy-1.16.1-cp36-cp36m-manylinux1_x86_64.whl (17.3MB)\n",
      "\u001b[K    100% |████████████████████████████████| 17.3MB 571kB/s ta 0:00:01\n",
      "\u001b[?25hCollecting aiohttp (from jupyter-plotly-dash)\n",
      "\u001b[?25l  Downloading https://files.pythonhosted.org/packages/0d/5c/f87987f4dc8b2cfcf37c83a814ea4b2aff4d285cbffc0ab08b2b4fa3f584/aiohttp-3.5.4-cp36-cp36m-manylinux1_x86_64.whl (1.2MB)\n",
      "\u001b[K    100% |████████████████████████████████| 1.2MB 449kB/s ta 0:00:01\n",
      "\u001b[?25hCollecting django-plotly-dash (from jupyter-plotly-dash)\n",
      "  Downloading https://files.pythonhosted.org/packages/a6/a8/a861409d3e9c64eef4b78a433a00ea7d0c5fb5b9ef33db924f5c715b77d7/django_plotly_dash-0.9.8-py3-none-any.whl\n",
      "Requirement already satisfied: jupyter in /home/xergioalex/Envs/pycon/lib/python3.6/site-packages (from jupyter-plotly-dash) (1.0.0)\n",
      "Collecting nbserverproxy (from jupyter-plotly-dash)\n",
      "  Downloading https://files.pythonhosted.org/packages/9c/23/bd11fa16ca09d26c1dd9f7356493e8a816f441b47a69650c443706f2fb87/nbserverproxy-0.8.8-py3-none-any.whl\n",
      "Requirement already satisfied: python-dateutil>=2.5.0 in /home/xergioalex/Envs/pycon/lib/python3.6/site-packages (from pandas) (2.8.0)\n",
      "Collecting pytz>=2011k (from pandas)\n",
      "  Using cached https://files.pythonhosted.org/packages/61/28/1d3920e4d1d50b19bc5d24398a7cd85cc7b9a75a490570d5a30c57622d34/pytz-2018.9-py2.py3-none-any.whl\n",
      "Collecting async-timeout<4.0,>=3.0 (from aiohttp->jupyter-plotly-dash)\n",
      "  Downloading https://files.pythonhosted.org/packages/e1/1e/5a4441be21b0726c4464f3f23c8b19628372f606755a9d2e46c187e65ec4/async_timeout-3.0.1-py3-none-any.whl\n",
      "Requirement already satisfied: chardet<4.0,>=2.0 in /usr/lib/python3/dist-packages (from aiohttp->jupyter-plotly-dash) (2.3.0)\n",
      "Collecting multidict<5.0,>=4.0 (from aiohttp->jupyter-plotly-dash)\n",
      "\u001b[?25l  Downloading https://files.pythonhosted.org/packages/71/cc/ceb5b8c76e7a23212b9e0353053cc35a9d86c763d852a76d9b941fe81fbc/multidict-4.5.2-cp36-cp36m-manylinux1_x86_64.whl (309kB)\n",
      "\u001b[K    100% |████████████████████████████████| 317kB 537kB/s ta 0:00:01\n",
      "\u001b[?25hCollecting idna-ssl>=1.0; python_version < \"3.7\" (from aiohttp->jupyter-plotly-dash)\n",
      "  Downloading https://files.pythonhosted.org/packages/46/03/07c4894aae38b0de52b52586b24bf189bb83e4ddabfe2e2c8f2419eec6f4/idna-ssl-1.1.0.tar.gz\n",
      "Collecting typing-extensions>=3.6.5; python_version < \"3.7\" (from aiohttp->jupyter-plotly-dash)\n",
      "  Downloading https://files.pythonhosted.org/packages/0f/62/c66e553258c37c33f9939abb2dd8d2481803d860ff68e635466f12aa7efa/typing_extensions-3.7.2-py3-none-any.whl\n",
      "Collecting attrs>=17.3.0 (from aiohttp->jupyter-plotly-dash)\n",
      "  Downloading https://files.pythonhosted.org/packages/3a/e1/5f9023cc983f1a628a8c2fd051ad19e76ff7b142a0faf329336f9a62a514/attrs-18.2.0-py2.py3-none-any.whl\n",
      "Collecting yarl<2.0,>=1.0 (from aiohttp->jupyter-plotly-dash)\n",
      "\u001b[?25l  Downloading https://files.pythonhosted.org/packages/fa/c0/9a73968a9f4e4dac8dffb0ba35f932dd7798fe97901f4942c2d38667862c/yarl-1.3.0-cp36-cp36m-manylinux1_x86_64.whl (251kB)\n",
      "\u001b[K    100% |████████████████████████████████| 256kB 1.3MB/s ta 0:00:01\n",
      "\u001b[?25hCollecting Django>=2 (from django-plotly-dash->jupyter-plotly-dash)\n",
      "\u001b[?25l  Downloading https://files.pythonhosted.org/packages/c7/87/fbd666c4f87591ae25b7bb374298e8629816e87193c4099d3608ef11fab9/Django-2.1.7-py3-none-any.whl (7.3MB)\n",
      "\u001b[K    100% |████████████████████████████████| 7.3MB 1.0MB/s ta 0:00:01\n",
      "\u001b[?25hCollecting dash-html-components (from django-plotly-dash->jupyter-plotly-dash)\n",
      "\u001b[?25l  Downloading https://files.pythonhosted.org/packages/91/a3/bd2b7db67c586b3db0234c4385828938d0f5a1281c4e3caee2ca63864b36/dash_html_components-0.13.5.tar.gz (525kB)\n",
      "\u001b[K    100% |████████████████████████████████| 532kB 1.1MB/s ta 0:00:01\n",
      "\u001b[?25hCollecting dash (from django-plotly-dash->jupyter-plotly-dash)\n",
      "  Downloading https://files.pythonhosted.org/packages/10/90/6f3174f13067c1d0e9992cafa1396ff62346fd20d7065850851b6a06976c/dash-0.37.0.tar.gz\n",
      "Collecting dpd-components (from django-plotly-dash->jupyter-plotly-dash)\n",
      "  Downloading https://files.pythonhosted.org/packages/fc/c4/1cc6b54e862fee31a52cb58a671553bf605f5dfbb16cfab155fe6b5d5bbf/dpd_components-0.1.0.tar.gz\n",
      "Collecting plotly (from django-plotly-dash->jupyter-plotly-dash)\n",
      "\u001b[?25l  Downloading https://files.pythonhosted.org/packages/fd/db/003b5cfbc710f4d4982440451185b952269e4080a57ae7e760a2ceb8ce0c/plotly-3.6.1-py2.py3-none-any.whl (38.6MB)\n",
      "\u001b[K    100% |████████████████████████████████| 38.6MB 900kB/s ta 0:00:011  23% |███████▍                        | 8.9MB 408kB/s eta 0:01:13    63% |████████████████████▎           | 24.5MB 1.1MB/s eta 0:00:14    70% |██████████████████████▋         | 27.3MB 1.4MB/s eta 0:00:09    73% |███████████████████████▋        | 28.5MB 1.0MB/s eta 0:00:10    78% |█████████████████████████       | 30.2MB 1.2MB/s eta 0:00:08    80% |█████████████████████████▊      | 31.0MB 1.4MB/s eta 0:00:06    96% |███████████████████████████████ | 37.4MB 1.3MB/s eta 0:00:01\n",
      "\u001b[?25hCollecting dash-core-components (from django-plotly-dash->jupyter-plotly-dash)\n",
      "\u001b[?25l  Downloading https://files.pythonhosted.org/packages/ec/a9/c8f08a7a6b396c7c1fa27950675b607c2af72cb524b854072b96879fc661/dash_core_components-0.43.1.tar.gz (4.1MB)\n",
      "\u001b[K    100% |████████████████████████████████| 4.1MB 1.0MB/s ta 0:00:01    11% |███▋                            | 460kB 1.0MB/s eta 0:00:04    14% |████▊                           | 604kB 1.5MB/s eta 0:00:03    25% |████████▏                       | 1.1MB 1.3MB/s eta 0:00:03\n",
      "\u001b[?25hCollecting dash-renderer (from django-plotly-dash->jupyter-plotly-dash)\n",
      "\u001b[?25l  Downloading https://files.pythonhosted.org/packages/b9/f6/0b2fa23889dab825622590c5883f09df9839331738e64c86cb831c653730/dash_renderer-0.18.0.tar.gz (912kB)\n",
      "\u001b[K    100% |████████████████████████████████| 921kB 1.3MB/s ta 0:00:01\n",
      "\u001b[?25hCollecting Flask>=1.0.2 (from django-plotly-dash->jupyter-plotly-dash)\n",
      "\u001b[?25l  Downloading https://files.pythonhosted.org/packages/7f/e7/08578774ed4536d3242b14dacb4696386634607af824ea997202cd0edb4b/Flask-1.0.2-py2.py3-none-any.whl (91kB)\n",
      "\u001b[K    100% |████████████████████████████████| 92kB 1.2MB/s ta 0:00:01\n",
      "\u001b[?25hRequirement already satisfied: ipykernel in /home/xergioalex/Envs/pycon/lib/python3.6/site-packages (from jupyter->jupyter-plotly-dash) (5.1.0)\n",
      "Requirement already satisfied: notebook in /home/xergioalex/Envs/pycon/lib/python3.6/site-packages (from jupyter->jupyter-plotly-dash) (5.7.4)\n",
      "Requirement already satisfied: ipywidgets in /home/xergioalex/Envs/pycon/lib/python3.6/site-packages (from jupyter->jupyter-plotly-dash) (7.4.2)\n",
      "Requirement already satisfied: jupyter-console in /home/xergioalex/Envs/pycon/lib/python3.6/site-packages (from jupyter->jupyter-plotly-dash) (6.0.0)\n",
      "Requirement already satisfied: nbconvert in /home/xergioalex/Envs/pycon/lib/python3.6/site-packages (from jupyter->jupyter-plotly-dash) (5.4.1)\n",
      "Requirement already satisfied: qtconsole in /home/xergioalex/Envs/pycon/lib/python3.6/site-packages (from jupyter->jupyter-plotly-dash) (4.4.3)\n"
     ]
    },
    {
     "name": "stdout",
     "output_type": "stream",
     "text": [
      "Requirement already satisfied: six>=1.5 in /usr/lib/python3/dist-packages (from python-dateutil>=2.5.0->pandas) (1.10.0)\n",
      "Requirement already satisfied: idna>=2.0 in /usr/lib/python3/dist-packages (from idna-ssl>=1.0; python_version < \"3.7\"->aiohttp->jupyter-plotly-dash) (2.0)\n",
      "Collecting flask-compress (from dash->django-plotly-dash->jupyter-plotly-dash)\n",
      "  Downloading https://files.pythonhosted.org/packages/0e/2a/378bd072928f6d92fd8c417d66b00c757dc361c0405a46a0134de6fd323d/Flask-Compress-1.4.0.tar.gz\n",
      "Collecting dash-table==3.4.0 (from dash->django-plotly-dash->jupyter-plotly-dash)\n",
      "\u001b[?25l  Downloading https://files.pythonhosted.org/packages/c5/15/fa89638423150dba05d7b40783cd2eac31626e57cdc32fd71eb6f341fdcc/dash_table-3.4.0.tar.gz (453kB)\n",
      "\u001b[K    100% |████████████████████████████████| 460kB 1.3MB/s ta 0:00:01\n",
      "\u001b[?25hRequirement already satisfied: nbformat>=4.2 in /home/xergioalex/Envs/pycon/lib/python3.6/site-packages (from plotly->django-plotly-dash->jupyter-plotly-dash) (4.4.0)\n",
      "Requirement already satisfied: decorator>=4.0.6 in /home/xergioalex/Envs/pycon/lib/python3.6/site-packages (from plotly->django-plotly-dash->jupyter-plotly-dash) (4.3.2)\n",
      "Requirement already satisfied: requests in /usr/lib/python3/dist-packages (from plotly->django-plotly-dash->jupyter-plotly-dash) (2.9.1)\n",
      "Collecting retrying>=1.3.3 (from plotly->django-plotly-dash->jupyter-plotly-dash)\n",
      "  Downloading https://files.pythonhosted.org/packages/44/ef/beae4b4ef80902f22e3af073397f079c96969c69b2c7d52a57ea9ae61c9d/retrying-1.3.3.tar.gz\n",
      "Collecting itsdangerous>=0.24 (from Flask>=1.0.2->django-plotly-dash->jupyter-plotly-dash)\n",
      "  Downloading https://files.pythonhosted.org/packages/76/ae/44b03b253d6fade317f32c24d100b3b35c2239807046a4c953c7b89fa49e/itsdangerous-1.1.0-py2.py3-none-any.whl\n",
      "Collecting Jinja2>=2.10 (from Flask>=1.0.2->django-plotly-dash->jupyter-plotly-dash)\n",
      "\u001b[?25l  Downloading https://files.pythonhosted.org/packages/7f/ff/ae64bacdfc95f27a016a7bed8e8686763ba4d277a78ca76f32659220a731/Jinja2-2.10-py2.py3-none-any.whl (126kB)\n",
      "\u001b[K    100% |████████████████████████████████| 133kB 1.2MB/s ta 0:00:01\n",
      "\u001b[?25hCollecting click>=5.1 (from Flask>=1.0.2->django-plotly-dash->jupyter-plotly-dash)\n",
      "  Using cached https://files.pythonhosted.org/packages/fa/37/45185cb5abbc30d7257104c434fe0b07e5a195a6847506c074527aa599ec/Click-7.0-py2.py3-none-any.whl\n",
      "Collecting Werkzeug>=0.14 (from Flask>=1.0.2->django-plotly-dash->jupyter-plotly-dash)\n",
      "\u001b[?25l  Downloading https://files.pythonhosted.org/packages/20/c4/12e3e56473e52375aa29c4764e70d1b8f3efa6682bef8d0aae04fe335243/Werkzeug-0.14.1-py2.py3-none-any.whl (322kB)\n",
      "\u001b[K    100% |████████████████████████████████| 327kB 1.3MB/s ta 0:00:01\n",
      "\u001b[?25hRequirement already satisfied: ipython>=5.0.0 in /home/xergioalex/Envs/pycon/lib/python3.6/site-packages (from ipykernel->jupyter->jupyter-plotly-dash) (7.3.0)\n",
      "Requirement already satisfied: traitlets>=4.1.0 in /home/xergioalex/Envs/pycon/lib/python3.6/site-packages (from ipykernel->jupyter->jupyter-plotly-dash) (4.3.2)\n",
      "Requirement already satisfied: jupyter-client in /home/xergioalex/Envs/pycon/lib/python3.6/site-packages (from ipykernel->jupyter->jupyter-plotly-dash) (5.2.4)\n",
      "Requirement already satisfied: tornado>=4.2 in /home/xergioalex/Envs/pycon/lib/python3.6/site-packages (from ipykernel->jupyter->jupyter-plotly-dash) (5.1.1)\n",
      "Requirement already satisfied: Send2Trash in /home/xergioalex/Envs/pycon/lib/python3.6/site-packages (from notebook->jupyter->jupyter-plotly-dash) (1.5.0)\n",
      "Requirement already satisfied: terminado>=0.8.1 in /home/xergioalex/Envs/pycon/lib/python3.6/site-packages (from notebook->jupyter->jupyter-plotly-dash) (0.8.1)\n",
      "Requirement already satisfied: ipython-genutils in /home/xergioalex/Envs/pycon/lib/python3.6/site-packages (from notebook->jupyter->jupyter-plotly-dash) (0.2.0)\n",
      "Requirement already satisfied: prometheus-client in /home/xergioalex/Envs/pycon/lib/python3.6/site-packages (from notebook->jupyter->jupyter-plotly-dash) (0.6.0)\n",
      "Requirement already satisfied: pyzmq>=17 in /home/xergioalex/Envs/pycon/lib/python3.6/site-packages (from notebook->jupyter->jupyter-plotly-dash) (18.0.0)\n",
      "Requirement already satisfied: jupyter-core>=4.4.0 in /home/xergioalex/Envs/pycon/lib/python3.6/site-packages (from notebook->jupyter->jupyter-plotly-dash) (4.4.0)\n",
      "Requirement already satisfied: widgetsnbextension~=3.4.0 in /home/xergioalex/Envs/pycon/lib/python3.6/site-packages (from ipywidgets->jupyter->jupyter-plotly-dash) (3.4.2)\n",
      "Requirement already satisfied: pygments in /home/xergioalex/Envs/pycon/lib/python3.6/site-packages (from jupyter-console->jupyter->jupyter-plotly-dash) (2.3.1)\n",
      "Requirement already satisfied: prompt-toolkit<2.1.0,>=2.0.0 in /home/xergioalex/Envs/pycon/lib/python3.6/site-packages (from jupyter-console->jupyter->jupyter-plotly-dash) (2.0.9)\n",
      "Requirement already satisfied: defusedxml in /home/xergioalex/Envs/pycon/lib/python3.6/site-packages (from nbconvert->jupyter->jupyter-plotly-dash) (0.5.0)\n",
      "Requirement already satisfied: bleach in /home/xergioalex/Envs/pycon/lib/python3.6/site-packages (from nbconvert->jupyter->jupyter-plotly-dash) (3.1.0)\n",
      "Requirement already satisfied: mistune>=0.8.1 in /home/xergioalex/Envs/pycon/lib/python3.6/site-packages (from nbconvert->jupyter->jupyter-plotly-dash) (0.8.4)\n",
      "Requirement already satisfied: testpath in /home/xergioalex/Envs/pycon/lib/python3.6/site-packages (from nbconvert->jupyter->jupyter-plotly-dash) (0.4.2)\n",
      "Requirement already satisfied: pandocfilters>=1.4.1 in /home/xergioalex/Envs/pycon/lib/python3.6/site-packages (from nbconvert->jupyter->jupyter-plotly-dash) (1.4.2)\n",
      "Requirement already satisfied: entrypoints>=0.2.2 in /home/xergioalex/Envs/pycon/lib/python3.6/site-packages (from nbconvert->jupyter->jupyter-plotly-dash) (0.3)\n",
      "Requirement already satisfied: jsonschema!=2.5.0,>=2.4 in /home/xergioalex/Envs/pycon/lib/python3.6/site-packages (from nbformat>=4.2->plotly->django-plotly-dash->jupyter-plotly-dash) (2.6.0)\n",
      "Requirement already satisfied: MarkupSafe>=0.23 in /usr/lib/python3/dist-packages (from Jinja2>=2.10->Flask>=1.0.2->django-plotly-dash->jupyter-plotly-dash) (0.23)\n",
      "Requirement already satisfied: jedi>=0.10 in /home/xergioalex/Envs/pycon/lib/python3.6/site-packages (from ipython>=5.0.0->ipykernel->jupyter->jupyter-plotly-dash) (0.13.2)\n",
      "Requirement already satisfied: pickleshare in /home/xergioalex/Envs/pycon/lib/python3.6/site-packages (from ipython>=5.0.0->ipykernel->jupyter->jupyter-plotly-dash) (0.7.5)\n",
      "Requirement already satisfied: setuptools>=18.5 in /home/xergioalex/Envs/pycon/lib/python3.6/site-packages (from ipython>=5.0.0->ipykernel->jupyter->jupyter-plotly-dash) (40.8.0)\n",
      "Requirement already satisfied: backcall in /home/xergioalex/Envs/pycon/lib/python3.6/site-packages (from ipython>=5.0.0->ipykernel->jupyter->jupyter-plotly-dash) (0.1.0)\n",
      "Requirement already satisfied: pexpect; sys_platform != \"win32\" in /usr/lib/python3/dist-packages (from ipython>=5.0.0->ipykernel->jupyter->jupyter-plotly-dash) (4.0.1)\n",
      "Requirement already satisfied: ptyprocess; os_name != \"nt\" in /usr/lib/python3/dist-packages (from terminado>=0.8.1->notebook->jupyter->jupyter-plotly-dash) (0.5)\n",
      "Requirement already satisfied: wcwidth in /home/xergioalex/Envs/pycon/lib/python3.6/site-packages (from prompt-toolkit<2.1.0,>=2.0.0->jupyter-console->jupyter->jupyter-plotly-dash) (0.1.7)\n",
      "Requirement already satisfied: webencodings in /home/xergioalex/Envs/pycon/lib/python3.6/site-packages (from bleach->nbconvert->jupyter->jupyter-plotly-dash) (0.5.1)\n",
      "Requirement already satisfied: parso>=0.3.0 in /home/xergioalex/Envs/pycon/lib/python3.6/site-packages (from jedi>=0.10->ipython>=5.0.0->ipykernel->jupyter->jupyter-plotly-dash) (0.3.4)\n",
      "Building wheels for collected packages: jupyter-plotly-dash, idna-ssl, dash-html-components, dash, dpd-components, dash-core-components, dash-renderer, flask-compress, dash-table, retrying\n",
      "  Building wheel for jupyter-plotly-dash (setup.py) ... \u001b[?25ldone\n",
      "\u001b[?25h  Stored in directory: /home/xergioalex/.cache/pip/wheels/98/9a/b0/89546531e608353ce17f310ca6bdb976e5f5bfa19809345174\n",
      "  Building wheel for idna-ssl (setup.py) ... \u001b[?25ldone\n",
      "\u001b[?25h  Stored in directory: /home/xergioalex/.cache/pip/wheels/d3/00/b3/32d613e19e08a739751dd6bf998cfed277728f8b2127ad4eb7\n"
     ]
    },
    {
     "name": "stdout",
     "output_type": "stream",
     "text": [
      "  Building wheel for dash-html-components (setup.py) ... \u001b[?25ldone\n",
      "\u001b[?25h  Stored in directory: /home/xergioalex/.cache/pip/wheels/b6/f0/9e/2fc9304ee7bcb5c0b2b06cd22958e004193599b8a4a1e79516\n",
      "  Building wheel for dash (setup.py) ... \u001b[?25ldone\n",
      "\u001b[?25h  Stored in directory: /home/xergioalex/.cache/pip/wheels/13/13/50/ece506e48ed4ace6575890743f0677c945a713a5f396f86d39\n",
      "  Building wheel for dpd-components (setup.py) ... \u001b[?25ldone\n",
      "\u001b[?25h  Stored in directory: /home/xergioalex/.cache/pip/wheels/36/93/4f/690abc41d258cac9a7d6246873294c1e11300dc74357d6d146\n",
      "  Building wheel for dash-core-components (setup.py) ... \u001b[?25ldone\n",
      "\u001b[?25h  Stored in directory: /home/xergioalex/.cache/pip/wheels/75/94/9d/cd4d410f00375c706735476b9488b9f9f31336253a2d9a85b0\n",
      "  Building wheel for dash-renderer (setup.py) ... \u001b[?25ldone\n",
      "\u001b[?25h  Stored in directory: /home/xergioalex/.cache/pip/wheels/87/1e/e6/975b12281585db7e3e5c55748c402e3ebf91898cba1f83c16a\n",
      "  Building wheel for flask-compress (setup.py) ... \u001b[?25ldone\n",
      "\u001b[?25h  Stored in directory: /home/xergioalex/.cache/pip/wheels/96/32/88/a1f6d9dd3c29570ab3a8acc0d556b3b20abcf3c623c868ce0a\n",
      "  Building wheel for dash-table (setup.py) ... \u001b[?25ldone\n",
      "\u001b[?25h  Stored in directory: /home/xergioalex/.cache/pip/wheels/c5/63/2a/aad4a4404ccce8ffbeca68bd79dc6d7e19f051f1a4106f3f48\n",
      "  Building wheel for retrying (setup.py) ... \u001b[?25ldone\n",
      "\u001b[?25h  Stored in directory: /home/xergioalex/.cache/pip/wheels/d7/a9/33/acc7b709e2a35caa7d4cae442f6fe6fbf2c43f80823d46460c\n",
      "Successfully built jupyter-plotly-dash idna-ssl dash-html-components dash dpd-components dash-core-components dash-renderer flask-compress dash-table retrying\n",
      "Installing collected packages: cython, llvmlite, numpy, numba, async-timeout, multidict, idna-ssl, typing-extensions, attrs, yarl, aiohttp, pytz, Django, itsdangerous, Jinja2, click, Werkzeug, Flask, flask-compress, retrying, plotly, dash-renderer, dash-core-components, dash-table, dash, dash-html-components, dpd-components, django-plotly-dash, nbserverproxy, jupyter-plotly-dash, pandas\n",
      "  Found existing installation: Jinja2 2.8\n",
      "    Not uninstalling jinja2 at /usr/lib/python3/dist-packages, outside environment /home/xergioalex/Envs/pycon\n",
      "    Can't uninstall 'Jinja2'. No files were found to uninstall.\n",
      "Successfully installed Django-2.1.7 Flask-1.0.2 Jinja2-2.10 Werkzeug-0.14.1 aiohttp-3.5.4 async-timeout-3.0.1 attrs-18.2.0 click-7.0 cython-0.29.5 dash-0.37.0 dash-core-components-0.43.1 dash-html-components-0.13.5 dash-renderer-0.18.0 dash-table-3.4.0 django-plotly-dash-0.9.8 dpd-components-0.1.0 flask-compress-1.4.0 idna-ssl-1.1.0 itsdangerous-1.1.0 jupyter-plotly-dash-0.2.0 llvmlite-0.27.1 multidict-4.5.2 nbserverproxy-0.8.8 numba-0.42.1 numpy-1.16.1 pandas-0.24.1 plotly-3.6.1 pytz-2018.9 retrying-1.3.3 typing-extensions-3.7.2 yarl-1.3.0\n"
     ]
    }
   ],
   "source": [
    "!pip install cython numba jupyter-plotly-dash pandas"
   ]
  },
  {
   "cell_type": "markdown",
   "metadata": {
    "slideshow": {
     "slide_type": "slide"
    }
   },
   "source": [
    "# PYCON 2019 RESOURCES\n"
   ]
  },
  {
   "cell_type": "markdown",
   "metadata": {
    "slideshow": {
     "slide_type": "fragment"
    }
   },
   "source": [
    "# 1. Que es la PyCon?\n",
    "\n",
    "Es una convención anual con varios días de conferencias y talleres sobre tecnologías y tendencias desarrolladas alrededor del uso del lenguaje *Python*, con invitados internacionales y nacionales destacados en la industria. Es un gran lugar para buscar inspiración, actualizarse sobre el estado del arte del lenguaje, aprender nuevas herramientas, tendencias y técnicas de alto nivel.\n",
    "\n",
    "Sitio Web: https://2019.pycon.co/\n",
    "\n"
   ]
  },
  {
   "cell_type": "markdown",
   "metadata": {
    "slideshow": {
     "slide_type": "subslide"
    }
   },
   "source": [
    "![Pycon foto 1](pictures/pycon1.jpg)\n"
   ]
  },
  {
   "cell_type": "markdown",
   "metadata": {
    "slideshow": {
     "slide_type": "subslide"
    }
   },
   "source": [
    "![Pycon foto 2](pictures/pycon2.jpg)"
   ]
  },
  {
   "cell_type": "markdown",
   "metadata": {
    "slideshow": {
     "slide_type": "subslide"
    }
   },
   "source": [
    "![Pycon foto 3](pictures/pycon3.jpg)"
   ]
  },
  {
   "cell_type": "markdown",
   "metadata": {
    "slideshow": {
     "slide_type": "subslide"
    }
   },
   "source": [
    "![Pycon foto 4](pictures/pycon4.jpg)"
   ]
  },
  {
   "cell_type": "markdown",
   "metadata": {
    "slideshow": {
     "slide_type": "subslide"
    }
   },
   "source": [
    "![Pycon foto 5](pictures/pycon5.jpg)"
   ]
  },
  {
   "cell_type": "markdown",
   "metadata": {
    "slideshow": {
     "slide_type": "subslide"
    }
   },
   "source": [
    "![Pycon foto 6](pictures/pycon6.jpg)\n"
   ]
  },
  {
   "cell_type": "markdown",
   "metadata": {
    "slideshow": {
     "slide_type": "subslide"
    }
   },
   "source": [
    "![Pycon foto 7](pictures/pycon7.jpg)"
   ]
  },
  {
   "cell_type": "markdown",
   "metadata": {
    "slideshow": {
     "slide_type": "subslide"
    }
   },
   "source": [
    "![Pycon foto 8](pictures/pycon8.jpg)"
   ]
  },
  {
   "cell_type": "markdown",
   "metadata": {
    "slideshow": {
     "slide_type": "subslide"
    }
   },
   "source": [
    "![Pycon foto 9](pictures/pycon9.jpg)"
   ]
  },
  {
   "cell_type": "markdown",
   "metadata": {
    "slideshow": {
     "slide_type": "slide"
    }
   },
   "source": [
    "# Focos y tematicas"
   ]
  },
  {
   "cell_type": "markdown",
   "metadata": {
    "slideshow": {
     "slide_type": "fragment"
    }
   },
   "source": [
    "## IoT (internet of things)\n",
    "\n",
    "El internet de las cosas es en palabras simples interconexión digital de objetos cotidianos atraves de internet (neveras, drones, relojes, entre otros).\n",
    "\n",
    "Se dan casos de uso con python usando la tensorflow y librerias para la manipulacion de drones, igualmente un reconocimiento a www.ubidots.com como iniciativa colombiana para facilitar el uso del IoT con python"
   ]
  },
  {
   "cell_type": "markdown",
   "metadata": {
    "slideshow": {
     "slide_type": "subslide"
    }
   },
   "source": [
    "## IA y Machine learning\n",
    "\n",
    "Python es uno de los lenguages insignias en el desarrollo de IA, debido a que este posee que muchas herramientas que permiten generar y usar modelos con suma facilidad, he incluso su orientacion matematica ha permitido que sea foco para la construccion de modelos matematicos fuertes.\n",
    "\n",
    "Parte de las charlas y enfoques de IA y ML que se vieron dentro de la pycon se enfocaron en conduccion autonoma, replicacion de estilos, manipulacion de images, entre otros."
   ]
  },
  {
   "cell_type": "markdown",
   "metadata": {
    "slideshow": {
     "slide_type": "subslide"
    }
   },
   "source": [
    "# Ciencia y visualizacion de datos\n",
    "\n",
    "Con el creciente interes en tecnologias como dask y pandas, python se consolidad como uno de los ecosistemas por excelencia para trabajar con la manipulacion y visualizacion de datos, en las conferencias se trataron temas tan variados como visualizacion con dash, control de datos con pyspark, entre otros"
   ]
  },
  {
   "cell_type": "markdown",
   "metadata": {
    "slideshow": {
     "slide_type": "subslide"
    }
   },
   "source": [
    "## Web y servers\n",
    "\n",
    "La expectacion que se tiene alrededor de python con respecto al manejo de servidores y la web es amplia debido al surgimiento de tecnologias como Node.js y go, que demuestran un gran desempeño  cuando se trata de concurrencia y manejo de IO, en la pycon se demuestro y se hablo de asyncIO como una herramienta muy potente para el desarrollo y manejo de peticiones concurrentes en la web, al igual que websockets, manejo de transaccibilidad, y mucho mas."
   ]
  },
  {
   "cell_type": "markdown",
   "metadata": {
    "slideshow": {
     "slide_type": "subslide"
    }
   },
   "source": [
    "## Comunidad ,historias de guerra, experiencias, y temáticas sociales\n",
    "\n",
    "Normalmente en este tipo de eventos de tecnología no se busca solo hablar de lo técnico, sino también de lo humano y lo social. Las historias detrás de tantas horas de desarrollo y sus creadores. Es un gran espacio para compartir historias, experiencias y aprendizajes.\n"
   ]
  },
  {
   "cell_type": "markdown",
   "metadata": {
    "slideshow": {
     "slide_type": "slide"
    }
   },
   "source": [
    "# Charlas destacadas\n",
    "- Keynotes: https://2019.pycon.co/en/\n",
    "- Ponencias: https://2019.pycon.co/ponencias/"
   ]
  },
  {
   "cell_type": "markdown",
   "metadata": {
    "slideshow": {
     "slide_type": "fragment"
    }
   },
   "source": [
    "### 1. An artistic neural style algorithm - Jorge Martinez\n",
    "    - https://towardsdatascience.com/style-transfer-styling-images-with-convolutional-neural-networks-7d215b58f461\n",
    "    - https://github.com/sebasvega95/neural-style-transfer\n",
    "    - https://medium.com/mlreview/making-ai-art-with-style-transfer-using-keras-8bb5fa44b216"
   ]
  },
  {
   "cell_type": "markdown",
   "metadata": {
    "slideshow": {
     "slide_type": "subslide"
    }
   },
   "source": [
    "### 2. Visualización interactiva de datos en Python - Andres Carvajal\n",
    "    - https://plot.ly/products/dash/\n",
    "    - https://bokeh.pydata.org/en/latest/"
   ]
  },
  {
   "cell_type": "markdown",
   "metadata": {
    "slideshow": {
     "slide_type": "subslide"
    }
   },
   "source": [
    "### 3. Load distribution in heterogeneous microservice environments - Roman Prykhodchenko\n",
    "    - https://docs.python.org/3/library/asyncio.html"
   ]
  },
  {
   "cell_type": "markdown",
   "metadata": {
    "slideshow": {
     "slide_type": "subslide"
    }
   },
   "source": [
    "### 4. Going Serverless with Python - Jorge Luis Galvis Quintero\n",
    "- Serverless => Functions as a service"
   ]
  },
  {
   "cell_type": "markdown",
   "metadata": {
    "slideshow": {
     "slide_type": "fragment"
    }
   },
   "source": [
    "- No suitable apps for Serverless\n",
    "    - Apps with web-sockets don't fit here.\n",
    "    - Apps serving static content"
   ]
  },
  {
   "cell_type": "markdown",
   "metadata": {
    "slideshow": {
     "slide_type": "fragment"
    }
   },
   "source": [
    "- Suitable apps for Serverless\n",
    "    - Apps with spikes or periods of low activity.\n",
    "    - Stateless apps (REST APIs)\n",
    "    - Workers (Sending an email, uploading a file, push notifications)"
   ]
  },
  {
   "cell_type": "markdown",
   "metadata": {
    "slideshow": {
     "slide_type": "subslide"
    }
   },
   "source": [
    "### 4. Going Serverless with Python - Jorge Luis Galvis Quintero\n",
    "- Tradeoffs\n",
    "    - Vendor lock-in\n",
    "    - Cold starts\n",
    "    - Vendor restrictions (time, size, etc)"
   ]
  },
  {
   "cell_type": "markdown",
   "metadata": {
    "slideshow": {
     "slide_type": "fragment"
    }
   },
   "source": [
    "- Providers\n",
    "    - AWS Lambda\n",
    "    - Azure Functions\n",
    "    - Google Cloud Functions"
   ]
  },
  {
   "cell_type": "markdown",
   "metadata": {
    "slideshow": {
     "slide_type": "subslide"
    }
   },
   "source": [
    "### 4. Going Serverless with Python - Jorge Luis Galvis Quintero\n",
    "- Self hosting\n",
    "    - OpenFaaS: https://github.com/openfaas/faas\n",
    "    - OpenWhisk: https://openwhisk.apache.org/\n",
    "    - Fission: https://fission.io/"
   ]
  },
  {
   "cell_type": "markdown",
   "metadata": {
    "slideshow": {
     "slide_type": "subslide"
    }
   },
   "source": [
    "### 5. What can we learn from 1.1 billion GitHub events and 42 TB of code? - Felipe Hoffa\n",
    "    - https://cloud.google.com/bigquery/"
   ]
  },
  {
   "cell_type": "markdown",
   "metadata": {
    "slideshow": {
     "slide_type": "subslide"
    }
   },
   "source": [
    "### 6. Automatización de Tareas con Selenium - Carolina Gómez Trejos\n",
    "    - https://github.com/carogomezt/automation-with-selenium\n",
    "    - https://docs.google.com/presentation/d/1GWSTYuA73o0rPiRfu6AgFf-0HOwqvtJk3qlkNNJViVM/edit"
   ]
  },
  {
   "cell_type": "markdown",
   "metadata": {
    "slideshow": {
     "slide_type": "slide"
    }
   },
   "source": [
    "# Talleres"
   ]
  },
  {
   "cell_type": "markdown",
   "metadata": {
    "slideshow": {
     "slide_type": "fragment"
    }
   },
   "source": [
    "### 1. Crea un sitio web de dibujo colaborativo en tiempo real con Django Channels\n",
    "- https://github.com/GudarJs/paint_frontend"
   ]
  },
  {
   "cell_type": "markdown",
   "metadata": {
    "slideshow": {
     "slide_type": "fragment"
    }
   },
   "source": [
    "### 2. Elastic APM + Django\n",
    "- https://github.com/ugosan/pycon2019-elastic"
   ]
  },
  {
   "cell_type": "markdown",
   "metadata": {
    "slideshow": {
     "slide_type": "subslide"
    }
   },
   "source": [
    "### 3. Introduction to Scientific Visualization with Python - Nicolás Guarín-Zapata\n",
    "- https://github.com/nicoguaro/scivis_tutorial_pycon2019"
   ]
  },
  {
   "cell_type": "markdown",
   "metadata": {
    "slideshow": {
     "slide_type": "fragment"
    }
   },
   "source": [
    "### 4. Taller en Procesamiento Digital de Imágenes y Visión por Computador - Daniela María Charris Stand"
   ]
  },
  {
   "cell_type": "markdown",
   "metadata": {
    "slideshow": {
     "slide_type": "slide"
    }
   },
   "source": [
    "# Demos"
   ]
  },
  {
   "cell_type": "markdown",
   "metadata": {
    "slideshow": {
     "slide_type": "fragment"
    }
   },
   "source": [
    "## Performance en python"
   ]
  },
  {
   "cell_type": "markdown",
   "metadata": {
    "slideshow": {
     "slide_type": "subslide"
    }
   },
   "source": [
    "## Python code"
   ]
  },
  {
   "cell_type": "code",
   "execution_count": 17,
   "metadata": {
    "slideshow": {
     "slide_type": "fragment"
    }
   },
   "outputs": [],
   "source": [
    "def count_with_python(N: int):\n",
    "    a: int = 0\n",
    "    \n",
    "    for i in range(N):\n",
    "        a += 1\n",
    "    \n",
    "    return a\n"
   ]
  },
  {
   "cell_type": "markdown",
   "metadata": {
    "slideshow": {
     "slide_type": "subslide"
    }
   },
   "source": [
    "## Cython code"
   ]
  },
  {
   "cell_type": "code",
   "execution_count": 11,
   "metadata": {
    "slideshow": {
     "slide_type": "fragment"
    }
   },
   "outputs": [
    {
     "name": "stdout",
     "output_type": "stream",
     "text": [
      "The cython extension is already loaded. To reload it, use:\n",
      "  %reload_ext cython\n"
     ]
    }
   ],
   "source": [
    "%load_ext cython"
   ]
  },
  {
   "cell_type": "code",
   "execution_count": 29,
   "metadata": {
    "scrolled": true,
    "slideshow": {
     "slide_type": "fragment"
    }
   },
   "outputs": [
    {
     "ename": "DistutilsPlatformError",
     "evalue": "Unable to find vcvarsall.bat",
     "output_type": "error",
     "traceback": [
      "\u001b[1;31m---------------------------------------------------------------------------\u001b[0m",
      "\u001b[1;31mDistutilsPlatformError\u001b[0m                    Traceback (most recent call last)",
      "\u001b[1;32m<ipython-input-29-d1c57f480866>\u001b[0m in \u001b[0;36m<module>\u001b[1;34m\u001b[0m\n\u001b[1;32m----> 1\u001b[1;33m \u001b[0mget_ipython\u001b[0m\u001b[1;33m(\u001b[0m\u001b[1;33m)\u001b[0m\u001b[1;33m.\u001b[0m\u001b[0mrun_cell_magic\u001b[0m\u001b[1;33m(\u001b[0m\u001b[1;34m'cython'\u001b[0m\u001b[1;33m,\u001b[0m \u001b[1;34m'-a'\u001b[0m\u001b[1;33m,\u001b[0m \u001b[1;34m'import cython as cy\\n\\ndef count_with_cython(int N):\\n    cdef int i\\n    cdef int a = 0\\n    \\n    for i in range(N):\\n        a += 1\\n    \\n    return a\\n\\ndef count_with_cython_hints(N: cy.int):\\n    a: cy.int = 0\\n    \\n    for i in range(N):\\n        a += 1\\n    \\n    return a\\n'\u001b[0m\u001b[1;33m)\u001b[0m\u001b[1;33m\u001b[0m\u001b[1;33m\u001b[0m\u001b[0m\n\u001b[0m",
      "\u001b[1;32mc:\\users\\nelso\\pycharmprojects\\cython_testing\\venv\\lib\\site-packages\\IPython\\core\\interactiveshell.py\u001b[0m in \u001b[0;36mrun_cell_magic\u001b[1;34m(self, magic_name, line, cell)\u001b[0m\n\u001b[0;32m   2345\u001b[0m                 \u001b[0mmagic_arg_s\u001b[0m \u001b[1;33m=\u001b[0m \u001b[0mself\u001b[0m\u001b[1;33m.\u001b[0m\u001b[0mvar_expand\u001b[0m\u001b[1;33m(\u001b[0m\u001b[0mline\u001b[0m\u001b[1;33m,\u001b[0m \u001b[0mstack_depth\u001b[0m\u001b[1;33m)\u001b[0m\u001b[1;33m\u001b[0m\u001b[1;33m\u001b[0m\u001b[0m\n\u001b[0;32m   2346\u001b[0m             \u001b[1;32mwith\u001b[0m \u001b[0mself\u001b[0m\u001b[1;33m.\u001b[0m\u001b[0mbuiltin_trap\u001b[0m\u001b[1;33m:\u001b[0m\u001b[1;33m\u001b[0m\u001b[1;33m\u001b[0m\u001b[0m\n\u001b[1;32m-> 2347\u001b[1;33m                 \u001b[0mresult\u001b[0m \u001b[1;33m=\u001b[0m \u001b[0mfn\u001b[0m\u001b[1;33m(\u001b[0m\u001b[0mmagic_arg_s\u001b[0m\u001b[1;33m,\u001b[0m \u001b[0mcell\u001b[0m\u001b[1;33m)\u001b[0m\u001b[1;33m\u001b[0m\u001b[1;33m\u001b[0m\u001b[0m\n\u001b[0m\u001b[0;32m   2348\u001b[0m             \u001b[1;32mreturn\u001b[0m \u001b[0mresult\u001b[0m\u001b[1;33m\u001b[0m\u001b[1;33m\u001b[0m\u001b[0m\n\u001b[0;32m   2349\u001b[0m \u001b[1;33m\u001b[0m\u001b[0m\n",
      "\u001b[1;32m<c:\\users\\nelso\\pycharmprojects\\cython_testing\\venv\\lib\\site-packages\\decorator.py:decorator-gen-129>\u001b[0m in \u001b[0;36mcython\u001b[1;34m(self, line, cell)\u001b[0m\n",
      "\u001b[1;32mc:\\users\\nelso\\pycharmprojects\\cython_testing\\venv\\lib\\site-packages\\IPython\\core\\magic.py\u001b[0m in \u001b[0;36m<lambda>\u001b[1;34m(f, *a, **k)\u001b[0m\n\u001b[0;32m    185\u001b[0m     \u001b[1;31m# but it's overkill for just that one bit of state.\u001b[0m\u001b[1;33m\u001b[0m\u001b[1;33m\u001b[0m\u001b[1;33m\u001b[0m\u001b[0m\n\u001b[0;32m    186\u001b[0m     \u001b[1;32mdef\u001b[0m \u001b[0mmagic_deco\u001b[0m\u001b[1;33m(\u001b[0m\u001b[0marg\u001b[0m\u001b[1;33m)\u001b[0m\u001b[1;33m:\u001b[0m\u001b[1;33m\u001b[0m\u001b[1;33m\u001b[0m\u001b[0m\n\u001b[1;32m--> 187\u001b[1;33m         \u001b[0mcall\u001b[0m \u001b[1;33m=\u001b[0m \u001b[1;32mlambda\u001b[0m \u001b[0mf\u001b[0m\u001b[1;33m,\u001b[0m \u001b[1;33m*\u001b[0m\u001b[0ma\u001b[0m\u001b[1;33m,\u001b[0m \u001b[1;33m**\u001b[0m\u001b[0mk\u001b[0m\u001b[1;33m:\u001b[0m \u001b[0mf\u001b[0m\u001b[1;33m(\u001b[0m\u001b[1;33m*\u001b[0m\u001b[0ma\u001b[0m\u001b[1;33m,\u001b[0m \u001b[1;33m**\u001b[0m\u001b[0mk\u001b[0m\u001b[1;33m)\u001b[0m\u001b[1;33m\u001b[0m\u001b[1;33m\u001b[0m\u001b[0m\n\u001b[0m\u001b[0;32m    188\u001b[0m \u001b[1;33m\u001b[0m\u001b[0m\n\u001b[0;32m    189\u001b[0m         \u001b[1;32mif\u001b[0m \u001b[0mcallable\u001b[0m\u001b[1;33m(\u001b[0m\u001b[0marg\u001b[0m\u001b[1;33m)\u001b[0m\u001b[1;33m:\u001b[0m\u001b[1;33m\u001b[0m\u001b[1;33m\u001b[0m\u001b[0m\n",
      "\u001b[1;32mc:\\users\\nelso\\pycharmprojects\\cython_testing\\venv\\lib\\site-packages\\Cython\\Build\\IpythonMagic.py\u001b[0m in \u001b[0;36mcython\u001b[1;34m(self, line, cell)\u001b[0m\n\u001b[0;32m    331\u001b[0m \u001b[1;33m\u001b[0m\u001b[0m\n\u001b[0;32m    332\u001b[0m         self._build_extension(extension, lib_dir, pgo_step_name='use' if args.pgo else None,\n\u001b[1;32m--> 333\u001b[1;33m                               quiet=args.quiet)\n\u001b[0m\u001b[0;32m    334\u001b[0m \u001b[1;33m\u001b[0m\u001b[0m\n\u001b[0;32m    335\u001b[0m         \u001b[0mmodule\u001b[0m \u001b[1;33m=\u001b[0m \u001b[0mimp\u001b[0m\u001b[1;33m.\u001b[0m\u001b[0mload_dynamic\u001b[0m\u001b[1;33m(\u001b[0m\u001b[0mmodule_name\u001b[0m\u001b[1;33m,\u001b[0m \u001b[0mmodule_path\u001b[0m\u001b[1;33m)\u001b[0m\u001b[1;33m\u001b[0m\u001b[1;33m\u001b[0m\u001b[0m\n",
      "\u001b[1;32mc:\\users\\nelso\\pycharmprojects\\cython_testing\\venv\\lib\\site-packages\\Cython\\Build\\IpythonMagic.py\u001b[0m in \u001b[0;36m_build_extension\u001b[1;34m(self, extension, lib_dir, temp_dir, pgo_step_name, quiet)\u001b[0m\n\u001b[0;32m    441\u001b[0m             \u001b[1;32mif\u001b[0m \u001b[1;32mnot\u001b[0m \u001b[0mquiet\u001b[0m\u001b[1;33m:\u001b[0m\u001b[1;33m\u001b[0m\u001b[1;33m\u001b[0m\u001b[0m\n\u001b[0;32m    442\u001b[0m                 \u001b[0mold_threshold\u001b[0m \u001b[1;33m=\u001b[0m \u001b[0mdistutils\u001b[0m\u001b[1;33m.\u001b[0m\u001b[0mlog\u001b[0m\u001b[1;33m.\u001b[0m\u001b[0mset_threshold\u001b[0m\u001b[1;33m(\u001b[0m\u001b[0mdistutils\u001b[0m\u001b[1;33m.\u001b[0m\u001b[0mlog\u001b[0m\u001b[1;33m.\u001b[0m\u001b[0mDEBUG\u001b[0m\u001b[1;33m)\u001b[0m\u001b[1;33m\u001b[0m\u001b[1;33m\u001b[0m\u001b[0m\n\u001b[1;32m--> 443\u001b[1;33m             \u001b[0mbuild_extension\u001b[0m\u001b[1;33m.\u001b[0m\u001b[0mrun\u001b[0m\u001b[1;33m(\u001b[0m\u001b[1;33m)\u001b[0m\u001b[1;33m\u001b[0m\u001b[1;33m\u001b[0m\u001b[0m\n\u001b[0m\u001b[0;32m    444\u001b[0m         \u001b[1;32mfinally\u001b[0m\u001b[1;33m:\u001b[0m\u001b[1;33m\u001b[0m\u001b[1;33m\u001b[0m\u001b[0m\n\u001b[0;32m    445\u001b[0m             \u001b[1;32mif\u001b[0m \u001b[1;32mnot\u001b[0m \u001b[0mquiet\u001b[0m \u001b[1;32mand\u001b[0m \u001b[0mold_threshold\u001b[0m \u001b[1;32mis\u001b[0m \u001b[1;32mnot\u001b[0m \u001b[1;32mNone\u001b[0m\u001b[1;33m:\u001b[0m\u001b[1;33m\u001b[0m\u001b[1;33m\u001b[0m\u001b[0m\n",
      "\u001b[1;32m~\\AppData\\Local\\Programs\\Python\\Python37-32\\lib\\distutils\\command\\build_ext.py\u001b[0m in \u001b[0;36mrun\u001b[1;34m(self)\u001b[0m\n\u001b[0;32m    337\u001b[0m \u001b[1;33m\u001b[0m\u001b[0m\n\u001b[0;32m    338\u001b[0m         \u001b[1;31m# Now actually compile and link everything.\u001b[0m\u001b[1;33m\u001b[0m\u001b[1;33m\u001b[0m\u001b[1;33m\u001b[0m\u001b[0m\n\u001b[1;32m--> 339\u001b[1;33m         \u001b[0mself\u001b[0m\u001b[1;33m.\u001b[0m\u001b[0mbuild_extensions\u001b[0m\u001b[1;33m(\u001b[0m\u001b[1;33m)\u001b[0m\u001b[1;33m\u001b[0m\u001b[1;33m\u001b[0m\u001b[0m\n\u001b[0m\u001b[0;32m    340\u001b[0m \u001b[1;33m\u001b[0m\u001b[0m\n\u001b[0;32m    341\u001b[0m     \u001b[1;32mdef\u001b[0m \u001b[0mcheck_extensions_list\u001b[0m\u001b[1;33m(\u001b[0m\u001b[0mself\u001b[0m\u001b[1;33m,\u001b[0m \u001b[0mextensions\u001b[0m\u001b[1;33m)\u001b[0m\u001b[1;33m:\u001b[0m\u001b[1;33m\u001b[0m\u001b[1;33m\u001b[0m\u001b[0m\n",
      "\u001b[1;32m~\\AppData\\Local\\Programs\\Python\\Python37-32\\lib\\distutils\\command\\build_ext.py\u001b[0m in \u001b[0;36mbuild_extensions\u001b[1;34m(self)\u001b[0m\n\u001b[0;32m    446\u001b[0m             \u001b[0mself\u001b[0m\u001b[1;33m.\u001b[0m\u001b[0m_build_extensions_parallel\u001b[0m\u001b[1;33m(\u001b[0m\u001b[1;33m)\u001b[0m\u001b[1;33m\u001b[0m\u001b[1;33m\u001b[0m\u001b[0m\n\u001b[0;32m    447\u001b[0m         \u001b[1;32melse\u001b[0m\u001b[1;33m:\u001b[0m\u001b[1;33m\u001b[0m\u001b[1;33m\u001b[0m\u001b[0m\n\u001b[1;32m--> 448\u001b[1;33m             \u001b[0mself\u001b[0m\u001b[1;33m.\u001b[0m\u001b[0m_build_extensions_serial\u001b[0m\u001b[1;33m(\u001b[0m\u001b[1;33m)\u001b[0m\u001b[1;33m\u001b[0m\u001b[1;33m\u001b[0m\u001b[0m\n\u001b[0m\u001b[0;32m    449\u001b[0m \u001b[1;33m\u001b[0m\u001b[0m\n\u001b[0;32m    450\u001b[0m     \u001b[1;32mdef\u001b[0m \u001b[0m_build_extensions_parallel\u001b[0m\u001b[1;33m(\u001b[0m\u001b[0mself\u001b[0m\u001b[1;33m)\u001b[0m\u001b[1;33m:\u001b[0m\u001b[1;33m\u001b[0m\u001b[1;33m\u001b[0m\u001b[0m\n",
      "\u001b[1;32m~\\AppData\\Local\\Programs\\Python\\Python37-32\\lib\\distutils\\command\\build_ext.py\u001b[0m in \u001b[0;36m_build_extensions_serial\u001b[1;34m(self)\u001b[0m\n\u001b[0;32m    471\u001b[0m         \u001b[1;32mfor\u001b[0m \u001b[0mext\u001b[0m \u001b[1;32min\u001b[0m \u001b[0mself\u001b[0m\u001b[1;33m.\u001b[0m\u001b[0mextensions\u001b[0m\u001b[1;33m:\u001b[0m\u001b[1;33m\u001b[0m\u001b[1;33m\u001b[0m\u001b[0m\n\u001b[0;32m    472\u001b[0m             \u001b[1;32mwith\u001b[0m \u001b[0mself\u001b[0m\u001b[1;33m.\u001b[0m\u001b[0m_filter_build_errors\u001b[0m\u001b[1;33m(\u001b[0m\u001b[0mext\u001b[0m\u001b[1;33m)\u001b[0m\u001b[1;33m:\u001b[0m\u001b[1;33m\u001b[0m\u001b[1;33m\u001b[0m\u001b[0m\n\u001b[1;32m--> 473\u001b[1;33m                 \u001b[0mself\u001b[0m\u001b[1;33m.\u001b[0m\u001b[0mbuild_extension\u001b[0m\u001b[1;33m(\u001b[0m\u001b[0mext\u001b[0m\u001b[1;33m)\u001b[0m\u001b[1;33m\u001b[0m\u001b[1;33m\u001b[0m\u001b[0m\n\u001b[0m\u001b[0;32m    474\u001b[0m \u001b[1;33m\u001b[0m\u001b[0m\n\u001b[0;32m    475\u001b[0m     \u001b[1;33m@\u001b[0m\u001b[0mcontextlib\u001b[0m\u001b[1;33m.\u001b[0m\u001b[0mcontextmanager\u001b[0m\u001b[1;33m\u001b[0m\u001b[1;33m\u001b[0m\u001b[0m\n",
      "\u001b[1;32m~\\AppData\\Local\\Programs\\Python\\Python37-32\\lib\\distutils\\command\\build_ext.py\u001b[0m in \u001b[0;36mbuild_extension\u001b[1;34m(self, ext)\u001b[0m\n\u001b[0;32m    531\u001b[0m                                          \u001b[0mdebug\u001b[0m\u001b[1;33m=\u001b[0m\u001b[0mself\u001b[0m\u001b[1;33m.\u001b[0m\u001b[0mdebug\u001b[0m\u001b[1;33m,\u001b[0m\u001b[1;33m\u001b[0m\u001b[1;33m\u001b[0m\u001b[0m\n\u001b[0;32m    532\u001b[0m                                          \u001b[0mextra_postargs\u001b[0m\u001b[1;33m=\u001b[0m\u001b[0mextra_args\u001b[0m\u001b[1;33m,\u001b[0m\u001b[1;33m\u001b[0m\u001b[1;33m\u001b[0m\u001b[0m\n\u001b[1;32m--> 533\u001b[1;33m                                          depends=ext.depends)\n\u001b[0m\u001b[0;32m    534\u001b[0m \u001b[1;33m\u001b[0m\u001b[0m\n\u001b[0;32m    535\u001b[0m         \u001b[1;31m# XXX outdated variable, kept here in case third-part code\u001b[0m\u001b[1;33m\u001b[0m\u001b[1;33m\u001b[0m\u001b[1;33m\u001b[0m\u001b[0m\n",
      "\u001b[1;32m~\\AppData\\Local\\Programs\\Python\\Python37-32\\lib\\distutils\\_msvccompiler.py\u001b[0m in \u001b[0;36mcompile\u001b[1;34m(self, sources, output_dir, macros, include_dirs, debug, extra_preargs, extra_postargs, depends)\u001b[0m\n\u001b[0;32m    343\u001b[0m \u001b[1;33m\u001b[0m\u001b[0m\n\u001b[0;32m    344\u001b[0m         \u001b[1;32mif\u001b[0m \u001b[1;32mnot\u001b[0m \u001b[0mself\u001b[0m\u001b[1;33m.\u001b[0m\u001b[0minitialized\u001b[0m\u001b[1;33m:\u001b[0m\u001b[1;33m\u001b[0m\u001b[1;33m\u001b[0m\u001b[0m\n\u001b[1;32m--> 345\u001b[1;33m             \u001b[0mself\u001b[0m\u001b[1;33m.\u001b[0m\u001b[0minitialize\u001b[0m\u001b[1;33m(\u001b[0m\u001b[1;33m)\u001b[0m\u001b[1;33m\u001b[0m\u001b[1;33m\u001b[0m\u001b[0m\n\u001b[0m\u001b[0;32m    346\u001b[0m         compile_info = self._setup_compile(output_dir, macros, include_dirs,\n\u001b[0;32m    347\u001b[0m                                            sources, depends, extra_postargs)\n",
      "\u001b[1;32m~\\AppData\\Local\\Programs\\Python\\Python37-32\\lib\\distutils\\_msvccompiler.py\u001b[0m in \u001b[0;36minitialize\u001b[1;34m(self, plat_name)\u001b[0m\n\u001b[0;32m    236\u001b[0m         \u001b[0mplat_spec\u001b[0m \u001b[1;33m=\u001b[0m \u001b[0mPLAT_TO_VCVARS\u001b[0m\u001b[1;33m[\u001b[0m\u001b[0mplat_name\u001b[0m\u001b[1;33m]\u001b[0m\u001b[1;33m\u001b[0m\u001b[1;33m\u001b[0m\u001b[0m\n\u001b[0;32m    237\u001b[0m \u001b[1;33m\u001b[0m\u001b[0m\n\u001b[1;32m--> 238\u001b[1;33m         \u001b[0mvc_env\u001b[0m \u001b[1;33m=\u001b[0m \u001b[0m_get_vc_env\u001b[0m\u001b[1;33m(\u001b[0m\u001b[0mplat_spec\u001b[0m\u001b[1;33m)\u001b[0m\u001b[1;33m\u001b[0m\u001b[1;33m\u001b[0m\u001b[0m\n\u001b[0m\u001b[0;32m    239\u001b[0m         \u001b[1;32mif\u001b[0m \u001b[1;32mnot\u001b[0m \u001b[0mvc_env\u001b[0m\u001b[1;33m:\u001b[0m\u001b[1;33m\u001b[0m\u001b[1;33m\u001b[0m\u001b[0m\n\u001b[0;32m    240\u001b[0m             raise DistutilsPlatformError(\"Unable to find a compatible \"\n",
      "\u001b[1;32m~\\AppData\\Local\\Programs\\Python\\Python37-32\\lib\\distutils\\_msvccompiler.py\u001b[0m in \u001b[0;36m_get_vc_env\u001b[1;34m(plat_spec)\u001b[0m\n\u001b[0;32m    132\u001b[0m     \u001b[0mvcvarsall\u001b[0m\u001b[1;33m,\u001b[0m \u001b[0mvcruntime\u001b[0m \u001b[1;33m=\u001b[0m \u001b[0m_find_vcvarsall\u001b[0m\u001b[1;33m(\u001b[0m\u001b[0mplat_spec\u001b[0m\u001b[1;33m)\u001b[0m\u001b[1;33m\u001b[0m\u001b[1;33m\u001b[0m\u001b[0m\n\u001b[0;32m    133\u001b[0m     \u001b[1;32mif\u001b[0m \u001b[1;32mnot\u001b[0m \u001b[0mvcvarsall\u001b[0m\u001b[1;33m:\u001b[0m\u001b[1;33m\u001b[0m\u001b[1;33m\u001b[0m\u001b[0m\n\u001b[1;32m--> 134\u001b[1;33m         \u001b[1;32mraise\u001b[0m \u001b[0mDistutilsPlatformError\u001b[0m\u001b[1;33m(\u001b[0m\u001b[1;34m\"Unable to find vcvarsall.bat\"\u001b[0m\u001b[1;33m)\u001b[0m\u001b[1;33m\u001b[0m\u001b[1;33m\u001b[0m\u001b[0m\n\u001b[0m\u001b[0;32m    135\u001b[0m \u001b[1;33m\u001b[0m\u001b[0m\n\u001b[0;32m    136\u001b[0m     \u001b[1;32mtry\u001b[0m\u001b[1;33m:\u001b[0m\u001b[1;33m\u001b[0m\u001b[1;33m\u001b[0m\u001b[0m\n",
      "\u001b[1;31mDistutilsPlatformError\u001b[0m: Unable to find vcvarsall.bat"
     ]
    }
   ],
   "source": [
    "%%cython -a\n",
    "import cython as cy\n",
    "\n",
    "def count_with_cython(int N):\n",
    "    cdef int i\n",
    "    cdef int a = 0\n",
    "    \n",
    "    for i in range(N):\n",
    "        a += 1\n",
    "    \n",
    "    return a\n",
    "\n",
    "def count_with_cython_hints(N: cy.int):\n",
    "    a: cy.int = 0\n",
    "    \n",
    "    for i in range(N):\n",
    "        a += 1\n",
    "    \n",
    "    return a"
   ]
  },
  {
   "cell_type": "markdown",
   "metadata": {
    "slideshow": {
     "slide_type": "subslide"
    }
   },
   "source": [
    "## numba code"
   ]
  },
  {
   "cell_type": "code",
   "execution_count": 19,
   "metadata": {
    "slideshow": {
     "slide_type": "fragment"
    }
   },
   "outputs": [],
   "source": [
    "import numba\n",
    "\n",
    "@numba.jit()\n",
    "def count_with_numba(N: int):\n",
    "    a: int = 0\n",
    "    \n",
    "    for i in range(N):\n",
    "        a += 1\n",
    "    \n",
    "    return a"
   ]
  },
  {
   "cell_type": "markdown",
   "metadata": {
    "slideshow": {
     "slide_type": "subslide"
    }
   },
   "source": [
    "# Benchmarks"
   ]
  },
  {
   "cell_type": "code",
   "execution_count": 20,
   "metadata": {
    "slideshow": {
     "slide_type": "fragment"
    }
   },
   "outputs": [
    {
     "name": "stdout",
     "output_type": "stream",
     "text": [
      "121.65694284439087\n"
     ]
    }
   ],
   "source": [
    "import time\n",
    "\n",
    "python_start = time.time()\n",
    "count_with_python(1_000_000_000)\n",
    "python_time = time.time() - python_start\n",
    "\n",
    "print(python_time)"
   ]
  },
  {
   "cell_type": "code",
   "execution_count": 27,
   "metadata": {
    "slideshow": {
     "slide_type": "subslide"
    }
   },
   "outputs": [
    {
     "name": "stdout",
     "output_type": "stream",
     "text": [
      "0.0\n"
     ]
    }
   ],
   "source": [
    "import time\n",
    "\n",
    "count_with_numba(1_000_000_000)\n",
    "\n",
    "numba_start = time.time()\n",
    "count_with_numba(1_000_000_000)\n",
    "numba_time = time.time() - numba_start\n",
    "\n",
    "print(numba_time)"
   ]
  },
  {
   "cell_type": "code",
   "execution_count": 30,
   "metadata": {
    "slideshow": {
     "slide_type": "fragment"
    }
   },
   "outputs": [
    {
     "ename": "NameError",
     "evalue": "name 'count_with_cython' is not defined",
     "output_type": "error",
     "traceback": [
      "\u001b[1;31m---------------------------------------------------------------------------\u001b[0m",
      "\u001b[1;31mNameError\u001b[0m                                 Traceback (most recent call last)",
      "\u001b[1;32m<ipython-input-30-625d96bc71fd>\u001b[0m in \u001b[0;36m<module>\u001b[1;34m\u001b[0m\n\u001b[0;32m      2\u001b[0m \u001b[1;33m\u001b[0m\u001b[0m\n\u001b[0;32m      3\u001b[0m \u001b[0mcython_start\u001b[0m \u001b[1;33m=\u001b[0m \u001b[0mtime\u001b[0m\u001b[1;33m.\u001b[0m\u001b[0mtime\u001b[0m\u001b[1;33m(\u001b[0m\u001b[1;33m)\u001b[0m\u001b[1;33m\u001b[0m\u001b[1;33m\u001b[0m\u001b[0m\n\u001b[1;32m----> 4\u001b[1;33m \u001b[0mcount_with_cython\u001b[0m\u001b[1;33m(\u001b[0m\u001b[1;36m1_000_000_000\u001b[0m\u001b[1;33m)\u001b[0m\u001b[1;33m\u001b[0m\u001b[1;33m\u001b[0m\u001b[0m\n\u001b[0m\u001b[0;32m      5\u001b[0m \u001b[0mcython_time\u001b[0m \u001b[1;33m=\u001b[0m \u001b[0mtime\u001b[0m\u001b[1;33m.\u001b[0m\u001b[0mtime\u001b[0m\u001b[1;33m(\u001b[0m\u001b[1;33m)\u001b[0m \u001b[1;33m-\u001b[0m \u001b[0mcython_start\u001b[0m\u001b[1;33m\u001b[0m\u001b[1;33m\u001b[0m\u001b[0m\n\u001b[0;32m      6\u001b[0m \u001b[1;33m\u001b[0m\u001b[0m\n",
      "\u001b[1;31mNameError\u001b[0m: name 'count_with_cython' is not defined"
     ]
    }
   ],
   "source": [
    "import time\n",
    "\n",
    "cython_start = time.time()\n",
    "count_with_cython(1_000_000_000)\n",
    "cython_time = time.time() - cython_start\n",
    "\n",
    "print(cython_time)"
   ]
  },
  {
   "cell_type": "markdown",
   "metadata": {
    "slideshow": {
     "slide_type": "subslide"
    }
   },
   "source": [
    "# AsyncIO"
   ]
  },
  {
   "cell_type": "code",
   "execution_count": 37,
   "metadata": {
    "slideshow": {
     "slide_type": "fragment"
    }
   },
   "outputs": [],
   "source": [
    "async def ping(coroutines_map, value):\n",
    "    print('ping')\n",
    "    if value > 0 :\n",
    "        value = await coroutines_map[value % 2](coroutines_map, value - 1)\n",
    "    return value\n",
    "\n",
    "async def pong(coroutines_map, value):\n",
    "    print('pong')\n",
    "    if value > 0 :\n",
    "        value = await coroutines_map[value % 2](coroutines_map, value - 1)\n",
    "    return value"
   ]
  },
  {
   "cell_type": "code",
   "execution_count": 40,
   "metadata": {
    "scrolled": true,
    "slideshow": {
     "slide_type": "fragment"
    }
   },
   "outputs": [
    {
     "ename": "RuntimeError",
     "evalue": "This event loop is already running",
     "output_type": "error",
     "traceback": [
      "\u001b[1;31m---------------------------------------------------------------------------\u001b[0m",
      "\u001b[1;31mRuntimeError\u001b[0m                              Traceback (most recent call last)",
      "\u001b[1;32m<ipython-input-40-b55d7cd7823f>\u001b[0m in \u001b[0;36m<module>\u001b[1;34m\u001b[0m\n\u001b[0;32m      2\u001b[0m \u001b[1;33m\u001b[0m\u001b[0m\n\u001b[0;32m      3\u001b[0m \u001b[0mloop\u001b[0m \u001b[1;33m=\u001b[0m \u001b[0masyncio\u001b[0m\u001b[1;33m.\u001b[0m\u001b[0mget_event_loop\u001b[0m\u001b[1;33m(\u001b[0m\u001b[1;33m)\u001b[0m\u001b[1;33m\u001b[0m\u001b[1;33m\u001b[0m\u001b[0m\n\u001b[1;32m----> 4\u001b[1;33m \u001b[0mresult\u001b[0m \u001b[1;33m=\u001b[0m \u001b[0mloop\u001b[0m\u001b[1;33m.\u001b[0m\u001b[0mrun_until_complete\u001b[0m\u001b[1;33m(\u001b[0m\u001b[0mping\u001b[0m\u001b[1;33m(\u001b[0m\u001b[1;33m{\u001b[0m\u001b[1;36m0\u001b[0m\u001b[1;33m:\u001b[0m \u001b[0mping\u001b[0m\u001b[1;33m,\u001b[0m \u001b[1;36m1\u001b[0m\u001b[1;33m:\u001b[0m \u001b[0mpong\u001b[0m\u001b[1;33m}\u001b[0m\u001b[1;33m,\u001b[0m \u001b[1;36m10\u001b[0m\u001b[1;33m)\u001b[0m\u001b[1;33m)\u001b[0m\u001b[1;33m\u001b[0m\u001b[1;33m\u001b[0m\u001b[0m\n\u001b[0m",
      "\u001b[1;32m~\\AppData\\Local\\Programs\\Python\\Python37-32\\lib\\asyncio\\base_events.py\u001b[0m in \u001b[0;36mrun_until_complete\u001b[1;34m(self, future)\u001b[0m\n\u001b[0;32m    569\u001b[0m         \u001b[0mfuture\u001b[0m\u001b[1;33m.\u001b[0m\u001b[0madd_done_callback\u001b[0m\u001b[1;33m(\u001b[0m\u001b[0m_run_until_complete_cb\u001b[0m\u001b[1;33m)\u001b[0m\u001b[1;33m\u001b[0m\u001b[1;33m\u001b[0m\u001b[0m\n\u001b[0;32m    570\u001b[0m         \u001b[1;32mtry\u001b[0m\u001b[1;33m:\u001b[0m\u001b[1;33m\u001b[0m\u001b[1;33m\u001b[0m\u001b[0m\n\u001b[1;32m--> 571\u001b[1;33m             \u001b[0mself\u001b[0m\u001b[1;33m.\u001b[0m\u001b[0mrun_forever\u001b[0m\u001b[1;33m(\u001b[0m\u001b[1;33m)\u001b[0m\u001b[1;33m\u001b[0m\u001b[1;33m\u001b[0m\u001b[0m\n\u001b[0m\u001b[0;32m    572\u001b[0m         \u001b[1;32mexcept\u001b[0m\u001b[1;33m:\u001b[0m\u001b[1;33m\u001b[0m\u001b[1;33m\u001b[0m\u001b[0m\n\u001b[0;32m    573\u001b[0m             \u001b[1;32mif\u001b[0m \u001b[0mnew_task\u001b[0m \u001b[1;32mand\u001b[0m \u001b[0mfuture\u001b[0m\u001b[1;33m.\u001b[0m\u001b[0mdone\u001b[0m\u001b[1;33m(\u001b[0m\u001b[1;33m)\u001b[0m \u001b[1;32mand\u001b[0m \u001b[1;32mnot\u001b[0m \u001b[0mfuture\u001b[0m\u001b[1;33m.\u001b[0m\u001b[0mcancelled\u001b[0m\u001b[1;33m(\u001b[0m\u001b[1;33m)\u001b[0m\u001b[1;33m:\u001b[0m\u001b[1;33m\u001b[0m\u001b[1;33m\u001b[0m\u001b[0m\n",
      "\u001b[1;32m~\\AppData\\Local\\Programs\\Python\\Python37-32\\lib\\asyncio\\base_events.py\u001b[0m in \u001b[0;36mrun_forever\u001b[1;34m(self)\u001b[0m\n\u001b[0;32m    524\u001b[0m         \u001b[0mself\u001b[0m\u001b[1;33m.\u001b[0m\u001b[0m_check_closed\u001b[0m\u001b[1;33m(\u001b[0m\u001b[1;33m)\u001b[0m\u001b[1;33m\u001b[0m\u001b[1;33m\u001b[0m\u001b[0m\n\u001b[0;32m    525\u001b[0m         \u001b[1;32mif\u001b[0m \u001b[0mself\u001b[0m\u001b[1;33m.\u001b[0m\u001b[0mis_running\u001b[0m\u001b[1;33m(\u001b[0m\u001b[1;33m)\u001b[0m\u001b[1;33m:\u001b[0m\u001b[1;33m\u001b[0m\u001b[1;33m\u001b[0m\u001b[0m\n\u001b[1;32m--> 526\u001b[1;33m             \u001b[1;32mraise\u001b[0m \u001b[0mRuntimeError\u001b[0m\u001b[1;33m(\u001b[0m\u001b[1;34m'This event loop is already running'\u001b[0m\u001b[1;33m)\u001b[0m\u001b[1;33m\u001b[0m\u001b[1;33m\u001b[0m\u001b[0m\n\u001b[0m\u001b[0;32m    527\u001b[0m         \u001b[1;32mif\u001b[0m \u001b[0mevents\u001b[0m\u001b[1;33m.\u001b[0m\u001b[0m_get_running_loop\u001b[0m\u001b[1;33m(\u001b[0m\u001b[1;33m)\u001b[0m \u001b[1;32mis\u001b[0m \u001b[1;32mnot\u001b[0m \u001b[1;32mNone\u001b[0m\u001b[1;33m:\u001b[0m\u001b[1;33m\u001b[0m\u001b[1;33m\u001b[0m\u001b[0m\n\u001b[0;32m    528\u001b[0m             raise RuntimeError(\n",
      "\u001b[1;31mRuntimeError\u001b[0m: This event loop is already running"
     ]
    },
    {
     "name": "stdout",
     "output_type": "stream",
     "text": [
      "ping\n",
      "ping\n",
      "pong\n",
      "ping\n",
      "pong\n",
      "ping\n",
      "pong\n",
      "ping\n",
      "pong\n",
      "ping\n",
      "pong\n"
     ]
    }
   ],
   "source": [
    "import asyncio\n",
    "\n",
    "loop = asyncio.get_event_loop()\n",
    "result = loop.run_until_complete(ping({0: ping, 1: pong}, 10))"
   ]
  },
  {
   "cell_type": "markdown",
   "metadata": {
    "slideshow": {
     "slide_type": "subslide"
    }
   },
   "source": [
    "## Round y decimals"
   ]
  },
  {
   "cell_type": "code",
   "execution_count": 43,
   "metadata": {
    "slideshow": {
     "slide_type": "fragment"
    }
   },
   "outputs": [
    {
     "data": {
      "text/plain": [
       "2"
      ]
     },
     "execution_count": 43,
     "metadata": {},
     "output_type": "execute_result"
    }
   ],
   "source": [
    "round(1.5)"
   ]
  },
  {
   "cell_type": "code",
   "execution_count": 44,
   "metadata": {
    "slideshow": {
     "slide_type": "fragment"
    }
   },
   "outputs": [
    {
     "data": {
      "text/plain": [
       "2"
      ]
     },
     "execution_count": 44,
     "metadata": {},
     "output_type": "execute_result"
    }
   ],
   "source": [
    "round(2.5)"
   ]
  },
  {
   "cell_type": "markdown",
   "metadata": {
    "slideshow": {
     "slide_type": "subslide"
    }
   },
   "source": [
    "# Dash"
   ]
  },
  {
   "cell_type": "code",
   "execution_count": 6,
   "metadata": {
    "slideshow": {
     "slide_type": "fragment"
    }
   },
   "outputs": [
    {
     "ename": "ImportError",
     "evalue": "No module named 'jupyter_plotly_dash'",
     "output_type": "error",
     "traceback": [
      "\u001b[0;31m---------------------------------------------------------------------------\u001b[0m",
      "\u001b[0;31mImportError\u001b[0m                               Traceback (most recent call last)",
      "\u001b[0;32m<ipython-input-6-6725963e59f3>\u001b[0m in \u001b[0;36m<module>\u001b[0;34m\u001b[0m\n\u001b[0;32m----> 1\u001b[0;31m \u001b[0;32mfrom\u001b[0m \u001b[0mjupyter_plotly_dash\u001b[0m \u001b[0;32mimport\u001b[0m \u001b[0mJupyterDash\u001b[0m\u001b[0;34m\u001b[0m\u001b[0m\n\u001b[0m\u001b[1;32m      2\u001b[0m \u001b[0;34m\u001b[0m\u001b[0m\n\u001b[1;32m      3\u001b[0m \u001b[0;32mfrom\u001b[0m \u001b[0mdash\u001b[0m\u001b[0;34m.\u001b[0m\u001b[0mdependencies\u001b[0m \u001b[0;32mimport\u001b[0m \u001b[0mInput\u001b[0m\u001b[0;34m,\u001b[0m \u001b[0mOutput\u001b[0m\u001b[0;34m\u001b[0m\u001b[0m\n\u001b[1;32m      4\u001b[0m \u001b[0;32mimport\u001b[0m \u001b[0mdash_core_components\u001b[0m \u001b[0;32mas\u001b[0m \u001b[0mdcc\u001b[0m\u001b[0;34m\u001b[0m\u001b[0m\n\u001b[1;32m      5\u001b[0m \u001b[0;32mimport\u001b[0m \u001b[0mdash_html_components\u001b[0m \u001b[0;32mas\u001b[0m \u001b[0mhtml\u001b[0m\u001b[0;34m\u001b[0m\u001b[0m\n",
      "\u001b[0;31mImportError\u001b[0m: No module named 'jupyter_plotly_dash'"
     ]
    }
   ],
   "source": [
    "from jupyter_plotly_dash import JupyterDash\n",
    "\n",
    "from dash.dependencies import Input, Output\n",
    "import dash_core_components as dcc\n",
    "import dash_html_components as html\n",
    "\n",
    "import flask\n",
    "import pandas as pd\n",
    "import time\n",
    "import os\n",
    "\n",
    "\n",
    "app = JupyterDash('SimpleExample')\n",
    "\n",
    "df = pd.read_csv('https://raw.githubusercontent.com/plotly/datasets/master/hello-world-stock.csv')\n",
    "\n",
    "\n",
    "dcc._js_dist[0]['external_url'] = 'https://cdn.plot.ly/plotly-basic-latest.min.js'\n",
    "\n",
    "app.layout = html.Div([\n",
    "    html.H1('Stock Tickers'),\n",
    "    dcc.Dropdown(\n",
    "        id='my-dropdown',\n",
    "        options=[\n",
    "            {'label': 'Tesla', 'value': 'TSLA'},\n",
    "            {'label': 'Apple', 'value': 'AAPL'},\n",
    "            {'label': 'Coke', 'value': 'COKE'}\n",
    "        ],\n",
    "        value='TSLA'\n",
    "    ),\n",
    "    dcc.Graph(id='my-graph')\n",
    "], className=\"container\")\n",
    "\n",
    "@app.callback(\n",
    "    Output('my-graph', 'figure'), [Input('my-dropdown', 'value')]\n",
    ")\n",
    "def update_graph(selected_dropdown_value):\n",
    "    dff = df[df['Stock'] == selected_dropdown_value]\n",
    "    return {\n",
    "        'data': [{\n",
    "            'x': dff.Date,\n",
    "            'y': dff.Close,\n",
    "            'line': {\n",
    "                'width': 3,\n",
    "                'shape': 'spline'\n",
    "            }\n",
    "        }],\n",
    "        'layout': {\n",
    "            'margin': {\n",
    "                'l': 30,\n",
    "                'r': 20,\n",
    "                'b': 30,\n",
    "                't': 20\n",
    "            }\n",
    "        }\n",
    "    }\n",
    "\n",
    "app"
   ]
  },
  {
   "cell_type": "markdown",
   "metadata": {
    "slideshow": {
     "slide_type": "slide"
    }
   },
   "source": [
    "# El futuro de python\n",
    "\n",
    "https://speakerdeck.com/willingc/python-and-jupyter-looking-to-the-future\n",
    "\n",
    "![](pictures/keynotes2.png)\n",
    "\n",
    "\n",
    "- Jupyter [https://jupyter.org/](https://jupyter.org/)\n",
    "    - JupyterHub: [htps://github.com/jupyterhub/jupyterhub](htps://github.com/jupyterhub/jupyterhub)\n",
    "    - JuypterLabs [https://github.com/jupyterlab/jupyterlab](https://github.com/jupyterlab/jupyterlab)\n",
    "    - MyBinder: https://mybinder.org/\n"
   ]
  },
  {
   "cell_type": "markdown",
   "metadata": {
    "slideshow": {
     "slide_type": "subslide"
    }
   },
   "source": [
    "## 1. Ejecutar python en el navegador\n",
    "\n",
    "- Javascript and Web Assembly\n",
    "    - Productive Interactions with Python"
   ]
  },
  {
   "cell_type": "markdown",
   "metadata": {
    "slideshow": {
     "slide_type": "fragment"
    }
   },
   "source": [
    "- The web\n",
    "- Python and Javascript\n",
    "- Universal Platform"
   ]
  },
  {
   "cell_type": "markdown",
   "metadata": {
    "slideshow": {
     "slide_type": "subslide"
    }
   },
   "source": [
    "## 2. Distribuir paquetes\n",
    "\n",
    "- User Installation Experience\n",
    "    - Double click install"
   ]
  },
  {
   "cell_type": "markdown",
   "metadata": {
    "slideshow": {
     "slide_type": "fragment"
    }
   },
   "source": [
    "- BeeWare\n",
    "    - Build native apps with Python\n",
    "    - https://pybee.org/"
   ]
  },
  {
   "cell_type": "markdown",
   "metadata": {
    "slideshow": {
     "slide_type": "subslide"
    }
   },
   "source": [
    "## 3. Python en moviles\n",
    "- Portable for Global Users\n",
    "- On demand"
   ]
  },
  {
   "cell_type": "markdown",
   "metadata": {
    "slideshow": {
     "slide_type": "fragment"
    }
   },
   "source": [
    "- Accesible science\n",
    "    - Web\n",
    "    - Mobile\n",
    "    - Tables"
   ]
  },
  {
   "cell_type": "markdown",
   "metadata": {
    "slideshow": {
     "slide_type": "slide"
    }
   },
   "source": [
    "### Conclusiones y experiencia\n",
    "- Que es lo bueno de ir a estos eventos\n",
    "- Por qué ir"
   ]
  },
  {
   "cell_type": "markdown",
   "metadata": {
    "slideshow": {
     "slide_type": "fragment"
    }
   },
   "source": []
  },
  {
   "cell_type": "code",
   "execution_count": null,
   "metadata": {},
   "outputs": [],
   "source": []
  }
 ],
 "metadata": {
  "celltoolbar": "Slideshow",
  "kernelspec": {
   "display_name": "Python 3",
   "language": "python",
   "name": "python3"
  },
  "language_info": {
   "codemirror_mode": {
    "name": "ipython",
    "version": 3
   },
   "file_extension": ".py",
   "mimetype": "text/x-python",
   "name": "python",
   "nbconvert_exporter": "python",
   "pygments_lexer": "ipython3",
   "version": "3.6.7"
  }
 },
 "nbformat": 4,
 "nbformat_minor": 2
}
