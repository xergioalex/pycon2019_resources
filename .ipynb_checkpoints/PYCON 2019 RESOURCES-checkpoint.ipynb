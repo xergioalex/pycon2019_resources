{
 "cells": [
  {
   "cell_type": "markdown",
   "metadata": {},
   "source": [
    "# PYCON 2019 RESOURCES"
   ]
  },
  {
   "cell_type": "markdown",
   "metadata": {},
   "source": [
    "1. Que fue la PyCon? (Sergio)\n",
    "2. Focos principales, temáticas (Nelson)\n",
    "- IoT\n",
    "- IA- Machine Learning\n",
    "- Ciencia y visualización de datos (dash)\n",
    "- Web server\n",
    "- Comunidad y historias de guerra, sociales\n",
    "\n",
    "3. Charlas destacadas y demos. (Sergio y Nelson)\n",
    "- Dash (Nelson)\n",
    "- Style transfer learning (Sergio)\n",
    "- Async IO Balanceo heterogeneo de cargas (Nelson)\n",
    "- Going Serverless (Going functions as a service) (Sergio)\n",
    "- Bigquery (Nelson)\n",
    "- Automatización de pruebas con selenium (Sergio)\n",
    "- Elastic Search(Sergio)\n",
    "\n",
    "3.1 Demos \n",
    "- Numba, cython, async io (Nelson)\n",
    "- round(1.5) round(2.5) fun facts (Nelson)\n",
    "- Elastic Search(Sergio)\n",
    "- dash (Nelson)\n",
    "- Style transfer learning (Sergio)\n",
    "-\n",
    "\n",
    "4. Hacia donde va Python (Nelson)\n",
    "- 1. Cómo ejecutar python en el navegador\n",
    "- 2. Cómo distribuir binarios (Cómo hacemos para distribuir python, .exe etc, portable)\n",
    "- 3. Cómo conseguimos ejecutar python en un movil\n",
    "\n",
    "\n",
    "5. Conclusiones y expericia (Sergio y Nelson)\n",
    "- Que es lo bueno de ir a estos eventos\n",
    "- Por qué ir"
   ]
  },
  {
   "cell_type": "markdown",
   "metadata": {},
   "source": [
    "# 1. Que es la PyCon?\n",
    "\n",
    "Es una convención anual con varios días de conferencias y talleres sobre tecnologías y tendencias desarrolladas alrededor del uso del lenguaje *Python*, con invitados internacionales y nacionales destacados en la industria. Es un gran lugar para buscar inspiración, actualizarse sobre el estado del arte del lenguaje, aprender nuevas herramientas, tendencias y técnicas de alto nivel.\n",
    "\n",
    "Sitio Web: https://2019.pycon.co/\n",
    "\n",
    "![Pycon foto 1](pictures/pycon1.jpg)\n",
    "![Pycon foto 2](pictures/pycon2.jpg)\n",
    "![Pycon foto 3](pictures/pycon3.jpg)\n",
    "![Pycon foto 4](pictures/pycon4.jpg)\n",
    "![Pycon foto 5](pictures/pycon5.jpg)\n",
    "![Pycon foto 6](pictures/pycon6.jpg)\n",
    "![Pycon foto 7](pictures/pycon7.jpg)\n",
    "![Pycon foto 8](pictures/pycon8.jpg)\n",
    "![Pycon foto 9](pictures/pycon9.jpg)"
   ]
  },
  {
   "cell_type": "markdown",
   "metadata": {},
   "source": [
    "# 2. Focos principales, temáticas\n",
    "\n",
    "- IoT\n",
    "- IA- Machine Learning\n",
    "- Ciencia y visualización de datos (dash)\n",
    "- Web server\n",
    "- Comunidad y historias de guerra, sociales"
   ]
  },
  {
   "attachments": {},
   "cell_type": "markdown",
   "metadata": {},
   "source": [
    "# 3. Keynotes\n",
    "\n",
    "https://2019.pycon.co/en/\n"
   ]
  },
  {
   "cell_type": "markdown",
   "metadata": {},
   "source": [
    "# 4. Charlas\n",
    "\n",
    "https://2019.pycon.co/ponencias/\n",
    "\n",
    "## Charlas y talleres destacados\n",
    "\n",
    "1. An artistic neural style algorithm - Jorge Martinez\n",
    "    - https://towardsdatascience.com/style-transfer-styling-images-with-convolutional-neural-networks-7d215b58f461\n",
    "    - https://github.com/sebasvega95/neural-style-transfer\n",
    "    - https://medium.com/mlreview/making-ai-art-with-style-transfer-using-keras-8bb5fa44b216\n",
    "    \n",
    "2. Visualización interactiva de datos en Python - Andres Carvajal\n",
    "    - https://plot.ly/products/dash/\n",
    "    - https://bokeh.pydata.org/en/latest/\n",
    "    \n",
    "3. Load distribution in heterogeneous microservice environments - Roman Prykhodchenko\n",
    "    - https://docs.python.org/3/library/asyncio.html\n",
    "    \n",
    "4. Going Serverless with Python\n",
    "    - Jorge Luis Galvis Quintero\n",
    "    - Tips: \n",
    "        - Serverless => Functions as a service\n",
    "        - Apps with web-sockets don't fit here.\n",
    "        - Apps serving static content"
   ]
  },
  {
   "cell_type": "markdown",
   "metadata": {},
   "source": []
  }
 ],
 "metadata": {
  "kernelspec": {
   "display_name": "Python 3",
   "language": "python",
   "name": "python3"
  },
  "language_info": {
   "codemirror_mode": {
    "name": "ipython",
    "version": 3
   },
   "file_extension": ".py",
   "mimetype": "text/x-python",
   "name": "python",
   "nbconvert_exporter": "python",
   "pygments_lexer": "ipython3",
   "version": "3.5.2"
  }
 },
 "nbformat": 4,
 "nbformat_minor": 2
}
