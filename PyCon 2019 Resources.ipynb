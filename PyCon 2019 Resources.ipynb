{
 "cells": [
  {
   "cell_type": "code",
   "execution_count": 1,
   "metadata": {
    "slideshow": {
     "slide_type": "skip"
    }
   },
   "outputs": [
    {
     "name": "stdout",
     "output_type": "stream",
     "text": [
      "Requirement already satisfied: cython in /home/xergioalex/Envs/pycon/lib/python3.6/site-packages (0.29.5)\n",
      "Requirement already satisfied: numba in /home/xergioalex/Envs/pycon/lib/python3.6/site-packages (0.42.1)\n",
      "Requirement already satisfied: jupyter-plotly-dash in /home/xergioalex/Envs/pycon/lib/python3.6/site-packages (0.2.0)\n",
      "Requirement already satisfied: pandas in /home/xergioalex/Envs/pycon/lib/python3.6/site-packages (0.24.1)\n",
      "Requirement already satisfied: numpy in /home/xergioalex/Envs/pycon/lib/python3.6/site-packages (from numba) (1.16.1)\n",
      "Requirement already satisfied: llvmlite>=0.27.0dev0 in /home/xergioalex/Envs/pycon/lib/python3.6/site-packages (from numba) (0.27.1)\n",
      "Requirement already satisfied: nbserverproxy in /home/xergioalex/Envs/pycon/lib/python3.6/site-packages (from jupyter-plotly-dash) (0.8.8)\n",
      "Requirement already satisfied: django-plotly-dash in /home/xergioalex/Envs/pycon/lib/python3.6/site-packages (from jupyter-plotly-dash) (0.9.8)\n",
      "Requirement already satisfied: jupyter in /home/xergioalex/Envs/pycon/lib/python3.6/site-packages (from jupyter-plotly-dash) (1.0.0)\n",
      "Requirement already satisfied: aiohttp in /home/xergioalex/Envs/pycon/lib/python3.6/site-packages (from jupyter-plotly-dash) (3.5.4)\n",
      "Requirement already satisfied: python-dateutil>=2.5.0 in /home/xergioalex/Envs/pycon/lib/python3.6/site-packages (from pandas) (2.8.0)\n",
      "Requirement already satisfied: pytz>=2011k in /home/xergioalex/Envs/pycon/lib/python3.6/site-packages (from pandas) (2018.9)\n",
      "Requirement already satisfied: notebook in /home/xergioalex/Envs/pycon/lib/python3.6/site-packages (from nbserverproxy->jupyter-plotly-dash) (5.7.4)\n",
      "Requirement already satisfied: dash in /home/xergioalex/Envs/pycon/lib/python3.6/site-packages (from django-plotly-dash->jupyter-plotly-dash) (0.37.0)\n",
      "Requirement already satisfied: dash-html-components in /home/xergioalex/Envs/pycon/lib/python3.6/site-packages (from django-plotly-dash->jupyter-plotly-dash) (0.13.5)\n",
      "Requirement already satisfied: dash-core-components in /home/xergioalex/Envs/pycon/lib/python3.6/site-packages (from django-plotly-dash->jupyter-plotly-dash) (0.43.1)\n",
      "Requirement already satisfied: dash-renderer in /home/xergioalex/Envs/pycon/lib/python3.6/site-packages (from django-plotly-dash->jupyter-plotly-dash) (0.18.0)\n",
      "Requirement already satisfied: plotly in /home/xergioalex/Envs/pycon/lib/python3.6/site-packages (from django-plotly-dash->jupyter-plotly-dash) (3.6.1)\n",
      "Requirement already satisfied: Django>=2 in /home/xergioalex/Envs/pycon/lib/python3.6/site-packages (from django-plotly-dash->jupyter-plotly-dash) (2.1.7)\n",
      "Requirement already satisfied: Flask>=1.0.2 in /home/xergioalex/Envs/pycon/lib/python3.6/site-packages (from django-plotly-dash->jupyter-plotly-dash) (1.0.2)\n",
      "Requirement already satisfied: dpd-components in /home/xergioalex/Envs/pycon/lib/python3.6/site-packages (from django-plotly-dash->jupyter-plotly-dash) (0.1.0)\n",
      "Requirement already satisfied: qtconsole in /home/xergioalex/Envs/pycon/lib/python3.6/site-packages (from jupyter->jupyter-plotly-dash) (4.4.3)\n",
      "Requirement already satisfied: jupyter-console in /home/xergioalex/Envs/pycon/lib/python3.6/site-packages (from jupyter->jupyter-plotly-dash) (6.0.0)\n",
      "Requirement already satisfied: ipykernel in /home/xergioalex/Envs/pycon/lib/python3.6/site-packages (from jupyter->jupyter-plotly-dash) (5.1.0)\n",
      "Requirement already satisfied: nbconvert in /home/xergioalex/Envs/pycon/lib/python3.6/site-packages (from jupyter->jupyter-plotly-dash) (5.4.1)\n",
      "Requirement already satisfied: ipywidgets in /home/xergioalex/Envs/pycon/lib/python3.6/site-packages (from jupyter->jupyter-plotly-dash) (7.4.2)\n",
      "Requirement already satisfied: idna-ssl>=1.0; python_version < \"3.7\" in /home/xergioalex/Envs/pycon/lib/python3.6/site-packages (from aiohttp->jupyter-plotly-dash) (1.1.0)\n",
      "Requirement already satisfied: multidict<5.0,>=4.0 in /home/xergioalex/Envs/pycon/lib/python3.6/site-packages (from aiohttp->jupyter-plotly-dash) (4.5.2)\n",
      "Requirement already satisfied: attrs>=17.3.0 in /home/xergioalex/Envs/pycon/lib/python3.6/site-packages (from aiohttp->jupyter-plotly-dash) (18.2.0)\n",
      "Requirement already satisfied: typing-extensions>=3.6.5; python_version < \"3.7\" in /home/xergioalex/Envs/pycon/lib/python3.6/site-packages (from aiohttp->jupyter-plotly-dash) (3.7.2)\n",
      "Requirement already satisfied: yarl<2.0,>=1.0 in /home/xergioalex/Envs/pycon/lib/python3.6/site-packages (from aiohttp->jupyter-plotly-dash) (1.3.0)\n",
      "Requirement already satisfied: chardet<4.0,>=2.0 in /usr/lib/python3/dist-packages (from aiohttp->jupyter-plotly-dash) (2.3.0)\n",
      "Requirement already satisfied: async-timeout<4.0,>=3.0 in /home/xergioalex/Envs/pycon/lib/python3.6/site-packages (from aiohttp->jupyter-plotly-dash) (3.0.1)\n",
      "Requirement already satisfied: six>=1.5 in /usr/lib/python3/dist-packages (from python-dateutil>=2.5.0->pandas) (1.10.0)\n",
      "Requirement already satisfied: nbformat in /home/xergioalex/Envs/pycon/lib/python3.6/site-packages (from notebook->nbserverproxy->jupyter-plotly-dash) (4.4.0)\n",
      "Requirement already satisfied: jinja2 in /home/xergioalex/Envs/pycon/lib/python3.6/site-packages (from notebook->nbserverproxy->jupyter-plotly-dash) (2.10)\n",
      "Requirement already satisfied: Send2Trash in /home/xergioalex/Envs/pycon/lib/python3.6/site-packages (from notebook->nbserverproxy->jupyter-plotly-dash) (1.5.0)\n",
      "Requirement already satisfied: jupyter-core>=4.4.0 in /home/xergioalex/Envs/pycon/lib/python3.6/site-packages (from notebook->nbserverproxy->jupyter-plotly-dash) (4.4.0)\n",
      "Requirement already satisfied: terminado>=0.8.1 in /home/xergioalex/Envs/pycon/lib/python3.6/site-packages (from notebook->nbserverproxy->jupyter-plotly-dash) (0.8.1)\n",
      "Requirement already satisfied: prometheus-client in /home/xergioalex/Envs/pycon/lib/python3.6/site-packages (from notebook->nbserverproxy->jupyter-plotly-dash) (0.6.0)\n",
      "Requirement already satisfied: ipython-genutils in /home/xergioalex/Envs/pycon/lib/python3.6/site-packages (from notebook->nbserverproxy->jupyter-plotly-dash) (0.2.0)\n",
      "Requirement already satisfied: jupyter-client>=5.2.0 in /home/xergioalex/Envs/pycon/lib/python3.6/site-packages (from notebook->nbserverproxy->jupyter-plotly-dash) (5.2.4)\n",
      "Requirement already satisfied: pyzmq>=17 in /home/xergioalex/Envs/pycon/lib/python3.6/site-packages (from notebook->nbserverproxy->jupyter-plotly-dash) (18.0.0)\n",
      "Requirement already satisfied: tornado>=4 in /home/xergioalex/Envs/pycon/lib/python3.6/site-packages (from notebook->nbserverproxy->jupyter-plotly-dash) (5.1.1)\n",
      "Requirement already satisfied: traitlets>=4.2.1 in /home/xergioalex/Envs/pycon/lib/python3.6/site-packages (from notebook->nbserverproxy->jupyter-plotly-dash) (4.3.2)\n",
      "Requirement already satisfied: dash-table==3.4.0 in /home/xergioalex/Envs/pycon/lib/python3.6/site-packages (from dash->django-plotly-dash->jupyter-plotly-dash) (3.4.0)\n",
      "Requirement already satisfied: flask-compress in /home/xergioalex/Envs/pycon/lib/python3.6/site-packages (from dash->django-plotly-dash->jupyter-plotly-dash) (1.4.0)\n",
      "Requirement already satisfied: requests in /usr/lib/python3/dist-packages (from plotly->django-plotly-dash->jupyter-plotly-dash) (2.9.1)\n",
      "Requirement already satisfied: retrying>=1.3.3 in /home/xergioalex/Envs/pycon/lib/python3.6/site-packages (from plotly->django-plotly-dash->jupyter-plotly-dash) (1.3.3)\n",
      "Requirement already satisfied: decorator>=4.0.6 in /home/xergioalex/Envs/pycon/lib/python3.6/site-packages (from plotly->django-plotly-dash->jupyter-plotly-dash) (4.3.2)\n",
      "Requirement already satisfied: Werkzeug>=0.14 in /home/xergioalex/Envs/pycon/lib/python3.6/site-packages (from Flask>=1.0.2->django-plotly-dash->jupyter-plotly-dash) (0.14.1)\n",
      "Requirement already satisfied: itsdangerous>=0.24 in /home/xergioalex/Envs/pycon/lib/python3.6/site-packages (from Flask>=1.0.2->django-plotly-dash->jupyter-plotly-dash) (1.1.0)\n",
      "Requirement already satisfied: click>=5.1 in /home/xergioalex/Envs/pycon/lib/python3.6/site-packages (from Flask>=1.0.2->django-plotly-dash->jupyter-plotly-dash) (7.0)\n",
      "Requirement already satisfied: pygments in /home/xergioalex/Envs/pycon/lib/python3.6/site-packages (from qtconsole->jupyter->jupyter-plotly-dash) (2.3.1)\n",
      "Requirement already satisfied: ipython in /home/xergioalex/Envs/pycon/lib/python3.6/site-packages (from jupyter-console->jupyter->jupyter-plotly-dash) (7.3.0)\n",
      "Requirement already satisfied: prompt-toolkit<2.1.0,>=2.0.0 in /home/xergioalex/Envs/pycon/lib/python3.6/site-packages (from jupyter-console->jupyter->jupyter-plotly-dash) (2.0.9)\n",
      "Requirement already satisfied: mistune>=0.8.1 in /home/xergioalex/Envs/pycon/lib/python3.6/site-packages (from nbconvert->jupyter->jupyter-plotly-dash) (0.8.4)\n",
      "Requirement already satisfied: defusedxml in /home/xergioalex/Envs/pycon/lib/python3.6/site-packages (from nbconvert->jupyter->jupyter-plotly-dash) (0.5.0)\n"
     ]
    },
    {
     "name": "stdout",
     "output_type": "stream",
     "text": [
      "Requirement already satisfied: bleach in /home/xergioalex/Envs/pycon/lib/python3.6/site-packages (from nbconvert->jupyter->jupyter-plotly-dash) (3.1.0)\r\n",
      "Requirement already satisfied: entrypoints>=0.2.2 in /home/xergioalex/Envs/pycon/lib/python3.6/site-packages (from nbconvert->jupyter->jupyter-plotly-dash) (0.3)\r\n",
      "Requirement already satisfied: testpath in /home/xergioalex/Envs/pycon/lib/python3.6/site-packages (from nbconvert->jupyter->jupyter-plotly-dash) (0.4.2)\r\n",
      "Requirement already satisfied: pandocfilters>=1.4.1 in /home/xergioalex/Envs/pycon/lib/python3.6/site-packages (from nbconvert->jupyter->jupyter-plotly-dash) (1.4.2)\r\n",
      "Requirement already satisfied: widgetsnbextension~=3.4.0 in /home/xergioalex/Envs/pycon/lib/python3.6/site-packages (from ipywidgets->jupyter->jupyter-plotly-dash) (3.4.2)\r\n",
      "Requirement already satisfied: idna>=2.0 in /usr/lib/python3/dist-packages (from idna-ssl>=1.0; python_version < \"3.7\"->aiohttp->jupyter-plotly-dash) (2.0)\r\n",
      "Requirement already satisfied: jsonschema!=2.5.0,>=2.4 in /home/xergioalex/Envs/pycon/lib/python3.6/site-packages (from nbformat->notebook->nbserverproxy->jupyter-plotly-dash) (2.6.0)\r\n",
      "Requirement already satisfied: MarkupSafe>=0.23 in /usr/lib/python3/dist-packages (from jinja2->notebook->nbserverproxy->jupyter-plotly-dash) (0.23)\r\n",
      "Requirement already satisfied: ptyprocess; os_name != \"nt\" in /usr/lib/python3/dist-packages (from terminado>=0.8.1->notebook->nbserverproxy->jupyter-plotly-dash) (0.5)\r\n",
      "Requirement already satisfied: pickleshare in /home/xergioalex/Envs/pycon/lib/python3.6/site-packages (from ipython->jupyter-console->jupyter->jupyter-plotly-dash) (0.7.5)\r\n",
      "Requirement already satisfied: pexpect; sys_platform != \"win32\" in /usr/lib/python3/dist-packages (from ipython->jupyter-console->jupyter->jupyter-plotly-dash) (4.0.1)\r\n",
      "Requirement already satisfied: backcall in /home/xergioalex/Envs/pycon/lib/python3.6/site-packages (from ipython->jupyter-console->jupyter->jupyter-plotly-dash) (0.1.0)\r\n",
      "Requirement already satisfied: jedi>=0.10 in /home/xergioalex/Envs/pycon/lib/python3.6/site-packages (from ipython->jupyter-console->jupyter->jupyter-plotly-dash) (0.13.2)\r\n",
      "Requirement already satisfied: setuptools>=18.5 in /home/xergioalex/Envs/pycon/lib/python3.6/site-packages (from ipython->jupyter-console->jupyter->jupyter-plotly-dash) (40.8.0)\r\n",
      "Requirement already satisfied: wcwidth in /home/xergioalex/Envs/pycon/lib/python3.6/site-packages (from prompt-toolkit<2.1.0,>=2.0.0->jupyter-console->jupyter->jupyter-plotly-dash) (0.1.7)\r\n",
      "Requirement already satisfied: webencodings in /home/xergioalex/Envs/pycon/lib/python3.6/site-packages (from bleach->nbconvert->jupyter->jupyter-plotly-dash) (0.5.1)\r\n",
      "Requirement already satisfied: parso>=0.3.0 in /home/xergioalex/Envs/pycon/lib/python3.6/site-packages (from jedi>=0.10->ipython->jupyter-console->jupyter->jupyter-plotly-dash) (0.3.4)\r\n"
     ]
    }
   ],
   "source": [
    "!pip install cython numba jupyter-plotly-dash pandas"
   ]
  },
  {
   "cell_type": "markdown",
   "metadata": {
    "slideshow": {
     "slide_type": "slide"
    }
   },
   "source": [
    "# PYCON 2019 RESOURCES\n"
   ]
  },
  {
   "cell_type": "markdown",
   "metadata": {
    "slideshow": {
     "slide_type": "fragment"
    }
   },
   "source": [
    "# 1. Que es la PyCon?\n",
    "\n",
    "Es una convención anual con varios días de conferencias y talleres sobre tecnologías y tendencias desarrolladas alrededor del uso del lenguaje *Python*, con invitados internacionales y nacionales destacados en la industria. Es un gran lugar para buscar inspiración, actualizarse sobre el estado del arte del lenguaje, aprender nuevas herramientas, tendencias y técnicas de alto nivel.\n",
    "\n",
    "Sitio Web: https://2019.pycon.co/\n",
    "\n"
   ]
  },
  {
   "cell_type": "markdown",
   "metadata": {
    "slideshow": {
     "slide_type": "subslide"
    }
   },
   "source": [
    "![Pycon foto 1](pictures/pycon1.jpg)\n"
   ]
  },
  {
   "cell_type": "markdown",
   "metadata": {
    "slideshow": {
     "slide_type": "subslide"
    }
   },
   "source": [
    "![Pycon foto 2](pictures/pycon2.jpg)"
   ]
  },
  {
   "cell_type": "markdown",
   "metadata": {
    "slideshow": {
     "slide_type": "subslide"
    }
   },
   "source": [
    "![Pycon foto 3](pictures/pycon3.jpg)"
   ]
  },
  {
   "cell_type": "markdown",
   "metadata": {
    "slideshow": {
     "slide_type": "subslide"
    }
   },
   "source": [
    "![Pycon foto 4](pictures/pycon4.jpg)"
   ]
  },
  {
   "cell_type": "markdown",
   "metadata": {
    "slideshow": {
     "slide_type": "subslide"
    }
   },
   "source": [
    "![Pycon foto 5](pictures/pycon5.jpg)"
   ]
  },
  {
   "cell_type": "markdown",
   "metadata": {
    "slideshow": {
     "slide_type": "subslide"
    }
   },
   "source": [
    "![Pycon foto 6](pictures/pycon6.jpg)\n"
   ]
  },
  {
   "cell_type": "markdown",
   "metadata": {
    "slideshow": {
     "slide_type": "subslide"
    }
   },
   "source": [
    "![Pycon foto 7](pictures/pycon7.jpg)"
   ]
  },
  {
   "cell_type": "markdown",
   "metadata": {
    "slideshow": {
     "slide_type": "subslide"
    }
   },
   "source": [
    "![Pycon foto 8](pictures/pycon8.jpg)"
   ]
  },
  {
   "cell_type": "markdown",
   "metadata": {
    "slideshow": {
     "slide_type": "subslide"
    }
   },
   "source": [
    "![Pycon foto 9](pictures/pycon9.jpg)"
   ]
  },
  {
   "cell_type": "markdown",
   "metadata": {
    "slideshow": {
     "slide_type": "slide"
    }
   },
   "source": [
    "# Focos y tematicas"
   ]
  },
  {
   "cell_type": "markdown",
   "metadata": {
    "slideshow": {
     "slide_type": "fragment"
    }
   },
   "source": [
    "## IoT (internet of things)\n",
    "\n",
    "El internet de las cosas es en palabras simples interconexión digital de objetos cotidianos atraves de internet (neveras, drones, relojes, entre otros).\n",
    "\n",
    "Se dan casos de uso con python usando la tensorflow y librerias para la manipulacion de drones, igualmente un reconocimiento a www.ubidots.com como iniciativa colombiana para facilitar el uso del IoT con python"
   ]
  },
  {
   "cell_type": "markdown",
   "metadata": {
    "slideshow": {
     "slide_type": "subslide"
    }
   },
   "source": [
    "## IA y Machine learning\n",
    "\n",
    "Python es uno de los lenguages insignias en el desarrollo de IA, debido a que este posee que muchas herramientas que permiten generar y usar modelos con suma facilidad, he incluso su orientacion matematica ha permitido que sea foco para la construccion de modelos matematicos fuertes.\n",
    "\n",
    "Parte de las charlas y enfoques de IA y ML que se vieron dentro de la pycon se enfocaron en conduccion autonoma, replicacion de estilos, manipulacion de images, entre otros."
   ]
  },
  {
   "cell_type": "markdown",
   "metadata": {
    "slideshow": {
     "slide_type": "subslide"
    }
   },
   "source": [
    "# Ciencia y visualizacion de datos\n",
    "\n",
    "Con el creciente interes en tecnologias como dask y pandas, python se consolidad como uno de los ecosistemas por excelencia para trabajar con la manipulacion y visualizacion de datos, en las conferencias se trataron temas tan variados como visualizacion con dash, control de datos con pyspark, entre otros"
   ]
  },
  {
   "cell_type": "markdown",
   "metadata": {
    "slideshow": {
     "slide_type": "subslide"
    }
   },
   "source": [
    "## Web y servers\n",
    "\n",
    "La expectacion que se tiene alrededor de python con respecto al manejo de servidores y la web es amplia debido al surgimiento de tecnologias como Node.js y go, que demuestran un gran desempeño  cuando se trata de concurrencia y manejo de IO, en la pycon se demuestro y se hablo de asyncIO como una herramienta muy potente para el desarrollo y manejo de peticiones concurrentes en la web, al igual que websockets, manejo de transaccibilidad, y mucho mas."
   ]
  },
  {
   "cell_type": "markdown",
   "metadata": {
    "slideshow": {
     "slide_type": "subslide"
    }
   },
   "source": [
    "## Comunidad ,historias de guerra, experiencias, y temáticas sociales\n",
    "\n",
    "Normalmente en este tipo de eventos de tecnología no se busca solo hablar de lo técnico, sino también de lo humano y lo social. Las historias detrás de tantas horas de desarrollo y sus creadores. Es un gran espacio para compartir historias, experiencias y aprendizajes.\n"
   ]
  },
  {
   "cell_type": "markdown",
   "metadata": {
    "slideshow": {
     "slide_type": "slide"
    }
   },
   "source": [
    "# Charlas destacadas\n",
    "- Keynotes: https://2019.pycon.co/en/\n",
    "- Ponencias: https://2019.pycon.co/ponencias/"
   ]
  },
  {
   "cell_type": "markdown",
   "metadata": {
    "slideshow": {
     "slide_type": "fragment"
    }
   },
   "source": [
    "### 1. An artistic neural style algorithm - Jorge Martinez\n",
    "    - https://towardsdatascience.com/style-transfer-styling-images-with-convolutional-neural-networks-7d215b58f461\n",
    "    - https://github.com/sebasvega95/neural-style-transfer\n",
    "    - https://medium.com/mlreview/making-ai-art-with-style-transfer-using-keras-8bb5fa44b216"
   ]
  },
  {
   "cell_type": "markdown",
   "metadata": {
    "slideshow": {
     "slide_type": "subslide"
    }
   },
   "source": [
    "### 2. Visualización interactiva de datos en Python - Andres Carvajal\n",
    "    - https://plot.ly/products/dash/\n",
    "    - https://bokeh.pydata.org/en/latest/"
   ]
  },
  {
   "cell_type": "markdown",
   "metadata": {
    "slideshow": {
     "slide_type": "subslide"
    }
   },
   "source": [
    "### 3. Load distribution in heterogeneous microservice environments - Roman Prykhodchenko\n",
    "    - https://docs.python.org/3/library/asyncio.html"
   ]
  },
  {
   "cell_type": "markdown",
   "metadata": {
    "slideshow": {
     "slide_type": "subslide"
    }
   },
   "source": [
    "### 4. Going Serverless with Python - Jorge Luis Galvis Quintero\n",
    "- Serverless => Functions as a service"
   ]
  },
  {
   "cell_type": "markdown",
   "metadata": {
    "slideshow": {
     "slide_type": "fragment"
    }
   },
   "source": [
    "- No suitable apps for Serverless\n",
    "    - Apps with web-sockets don't fit here.\n",
    "    - Apps serving static content"
   ]
  },
  {
   "cell_type": "markdown",
   "metadata": {
    "slideshow": {
     "slide_type": "fragment"
    }
   },
   "source": [
    "- Suitable apps for Serverless\n",
    "    - Apps with spikes or periods of low activity.\n",
    "    - Stateless apps (REST APIs)\n",
    "    - Workers (Sending an email, uploading a file, push notifications)"
   ]
  },
  {
   "cell_type": "markdown",
   "metadata": {
    "slideshow": {
     "slide_type": "subslide"
    }
   },
   "source": [
    "### 4. Going Serverless with Python - Jorge Luis Galvis Quintero\n",
    "- Tradeoffs\n",
    "    - Vendor lock-in\n",
    "    - Cold starts\n",
    "    - Vendor restrictions (time, size, etc)"
   ]
  },
  {
   "cell_type": "markdown",
   "metadata": {
    "slideshow": {
     "slide_type": "fragment"
    }
   },
   "source": [
    "- Providers\n",
    "    - AWS Lambda\n",
    "    - Azure Functions\n",
    "    - Google Cloud Functions"
   ]
  },
  {
   "cell_type": "markdown",
   "metadata": {
    "slideshow": {
     "slide_type": "subslide"
    }
   },
   "source": [
    "### 4. Going Serverless with Python - Jorge Luis Galvis Quintero\n",
    "- Self hosting\n",
    "    - OpenFaaS: https://github.com/openfaas/faas\n",
    "    - OpenWhisk: https://openwhisk.apache.org/\n",
    "    - Fission: https://fission.io/"
   ]
  },
  {
   "cell_type": "markdown",
   "metadata": {
    "slideshow": {
     "slide_type": "subslide"
    }
   },
   "source": [
    "### 5. What can we learn from 1.1 billion GitHub events and 42 TB of code? - Felipe Hoffa\n",
    "    - https://cloud.google.com/bigquery/"
   ]
  },
  {
   "cell_type": "markdown",
   "metadata": {
    "slideshow": {
     "slide_type": "subslide"
    }
   },
   "source": [
    "### 6. Automatización de Tareas con Selenium - Carolina Gómez Trejos\n",
    "    - https://github.com/carogomezt/automation-with-selenium\n",
    "    - https://docs.google.com/presentation/d/1GWSTYuA73o0rPiRfu6AgFf-0HOwqvtJk3qlkNNJViVM/edit"
   ]
  },
  {
   "cell_type": "markdown",
   "metadata": {
    "slideshow": {
     "slide_type": "slide"
    }
   },
   "source": [
    "# Talleres"
   ]
  },
  {
   "cell_type": "markdown",
   "metadata": {
    "slideshow": {
     "slide_type": "fragment"
    }
   },
   "source": [
    "### 1. Crea un sitio web de dibujo colaborativo en tiempo real con Django Channels\n",
    "- https://github.com/GudarJs/paint_frontend"
   ]
  },
  {
   "cell_type": "markdown",
   "metadata": {
    "slideshow": {
     "slide_type": "fragment"
    }
   },
   "source": [
    "### 2. Elastic APM + Django\n",
    "- https://github.com/ugosan/pycon2019-elastic"
   ]
  },
  {
   "cell_type": "markdown",
   "metadata": {
    "slideshow": {
     "slide_type": "subslide"
    }
   },
   "source": [
    "### 3. Introduction to Scientific Visualization with Python - Nicolás Guarín-Zapata\n",
    "- https://github.com/nicoguaro/scivis_tutorial_pycon2019"
   ]
  },
  {
   "cell_type": "markdown",
   "metadata": {
    "slideshow": {
     "slide_type": "fragment"
    }
   },
   "source": [
    "### 4. Taller en Procesamiento Digital de Imágenes y Visión por Computador - Daniela María Charris Stand"
   ]
  },
  {
   "cell_type": "markdown",
   "metadata": {
    "slideshow": {
     "slide_type": "slide"
    }
   },
   "source": [
    "# Demos"
   ]
  },
  {
   "cell_type": "markdown",
   "metadata": {
    "slideshow": {
     "slide_type": "fragment"
    }
   },
   "source": [
    "## Performance en python"
   ]
  },
  {
   "cell_type": "markdown",
   "metadata": {
    "slideshow": {
     "slide_type": "subslide"
    }
   },
   "source": [
    "## Python code"
   ]
  },
  {
   "cell_type": "code",
   "execution_count": 2,
   "metadata": {
    "slideshow": {
     "slide_type": "fragment"
    }
   },
   "outputs": [],
   "source": [
    "def count_with_python(N: int):\n",
    "    a: int = 0\n",
    "    \n",
    "    for i in range(N):\n",
    "        a += 1\n",
    "    \n",
    "    return a\n"
   ]
  },
  {
   "cell_type": "markdown",
   "metadata": {
    "slideshow": {
     "slide_type": "subslide"
    }
   },
   "source": [
    "## Cython code"
   ]
  },
  {
   "cell_type": "code",
   "execution_count": 3,
   "metadata": {
    "slideshow": {
     "slide_type": "fragment"
    }
   },
   "outputs": [],
   "source": [
    "%load_ext cython"
   ]
  },
  {
   "cell_type": "code",
   "execution_count": 4,
   "metadata": {
    "scrolled": true,
    "slideshow": {
     "slide_type": "fragment"
    }
   },
   "outputs": [
    {
     "data": {
      "text/html": [
       "<!DOCTYPE html>\n",
       "<!-- Generated by Cython 0.29.5 -->\n",
       "<html>\n",
       "<head>\n",
       "    <meta http-equiv=\"Content-Type\" content=\"text/html; charset=utf-8\" />\n",
       "    <title>Cython: _cython_magic_6bbeaf9778e75f3a80b8d700c01f22d7.pyx</title>\n",
       "    <style type=\"text/css\">\n",
       "    \n",
       "body.cython { font-family: courier; font-size: 12; }\n",
       "\n",
       ".cython.tag  {  }\n",
       ".cython.line { margin: 0em }\n",
       ".cython.code { font-size: 9; color: #444444; display: none; margin: 0px 0px 0px 8px; border-left: 8px none; }\n",
       "\n",
       ".cython.line .run { background-color: #B0FFB0; }\n",
       ".cython.line .mis { background-color: #FFB0B0; }\n",
       ".cython.code.run  { border-left: 8px solid #B0FFB0; }\n",
       ".cython.code.mis  { border-left: 8px solid #FFB0B0; }\n",
       "\n",
       ".cython.code .py_c_api  { color: red; }\n",
       ".cython.code .py_macro_api  { color: #FF7000; }\n",
       ".cython.code .pyx_c_api  { color: #FF3000; }\n",
       ".cython.code .pyx_macro_api  { color: #FF7000; }\n",
       ".cython.code .refnanny  { color: #FFA000; }\n",
       ".cython.code .trace  { color: #FFA000; }\n",
       ".cython.code .error_goto  { color: #FFA000; }\n",
       "\n",
       ".cython.code .coerce  { color: #008000; border: 1px dotted #008000 }\n",
       ".cython.code .py_attr { color: #FF0000; font-weight: bold; }\n",
       ".cython.code .c_attr  { color: #0000FF; }\n",
       ".cython.code .py_call { color: #FF0000; font-weight: bold; }\n",
       ".cython.code .c_call  { color: #0000FF; }\n",
       "\n",
       ".cython.score-0 {background-color: #FFFFff;}\n",
       ".cython.score-1 {background-color: #FFFFe7;}\n",
       ".cython.score-2 {background-color: #FFFFd4;}\n",
       ".cython.score-3 {background-color: #FFFFc4;}\n",
       ".cython.score-4 {background-color: #FFFFb6;}\n",
       ".cython.score-5 {background-color: #FFFFaa;}\n",
       ".cython.score-6 {background-color: #FFFF9f;}\n",
       ".cython.score-7 {background-color: #FFFF96;}\n",
       ".cython.score-8 {background-color: #FFFF8d;}\n",
       ".cython.score-9 {background-color: #FFFF86;}\n",
       ".cython.score-10 {background-color: #FFFF7f;}\n",
       ".cython.score-11 {background-color: #FFFF79;}\n",
       ".cython.score-12 {background-color: #FFFF73;}\n",
       ".cython.score-13 {background-color: #FFFF6e;}\n",
       ".cython.score-14 {background-color: #FFFF6a;}\n",
       ".cython.score-15 {background-color: #FFFF66;}\n",
       ".cython.score-16 {background-color: #FFFF62;}\n",
       ".cython.score-17 {background-color: #FFFF5e;}\n",
       ".cython.score-18 {background-color: #FFFF5b;}\n",
       ".cython.score-19 {background-color: #FFFF57;}\n",
       ".cython.score-20 {background-color: #FFFF55;}\n",
       ".cython.score-21 {background-color: #FFFF52;}\n",
       ".cython.score-22 {background-color: #FFFF4f;}\n",
       ".cython.score-23 {background-color: #FFFF4d;}\n",
       ".cython.score-24 {background-color: #FFFF4b;}\n",
       ".cython.score-25 {background-color: #FFFF48;}\n",
       ".cython.score-26 {background-color: #FFFF46;}\n",
       ".cython.score-27 {background-color: #FFFF44;}\n",
       ".cython.score-28 {background-color: #FFFF43;}\n",
       ".cython.score-29 {background-color: #FFFF41;}\n",
       ".cython.score-30 {background-color: #FFFF3f;}\n",
       ".cython.score-31 {background-color: #FFFF3e;}\n",
       ".cython.score-32 {background-color: #FFFF3c;}\n",
       ".cython.score-33 {background-color: #FFFF3b;}\n",
       ".cython.score-34 {background-color: #FFFF39;}\n",
       ".cython.score-35 {background-color: #FFFF38;}\n",
       ".cython.score-36 {background-color: #FFFF37;}\n",
       ".cython.score-37 {background-color: #FFFF36;}\n",
       ".cython.score-38 {background-color: #FFFF35;}\n",
       ".cython.score-39 {background-color: #FFFF34;}\n",
       ".cython.score-40 {background-color: #FFFF33;}\n",
       ".cython.score-41 {background-color: #FFFF32;}\n",
       ".cython.score-42 {background-color: #FFFF31;}\n",
       ".cython.score-43 {background-color: #FFFF30;}\n",
       ".cython.score-44 {background-color: #FFFF2f;}\n",
       ".cython.score-45 {background-color: #FFFF2e;}\n",
       ".cython.score-46 {background-color: #FFFF2d;}\n",
       ".cython.score-47 {background-color: #FFFF2c;}\n",
       ".cython.score-48 {background-color: #FFFF2b;}\n",
       ".cython.score-49 {background-color: #FFFF2b;}\n",
       ".cython.score-50 {background-color: #FFFF2a;}\n",
       ".cython.score-51 {background-color: #FFFF29;}\n",
       ".cython.score-52 {background-color: #FFFF29;}\n",
       ".cython.score-53 {background-color: #FFFF28;}\n",
       ".cython.score-54 {background-color: #FFFF27;}\n",
       ".cython.score-55 {background-color: #FFFF27;}\n",
       ".cython.score-56 {background-color: #FFFF26;}\n",
       ".cython.score-57 {background-color: #FFFF26;}\n",
       ".cython.score-58 {background-color: #FFFF25;}\n",
       ".cython.score-59 {background-color: #FFFF24;}\n",
       ".cython.score-60 {background-color: #FFFF24;}\n",
       ".cython.score-61 {background-color: #FFFF23;}\n",
       ".cython.score-62 {background-color: #FFFF23;}\n",
       ".cython.score-63 {background-color: #FFFF22;}\n",
       ".cython.score-64 {background-color: #FFFF22;}\n",
       ".cython.score-65 {background-color: #FFFF22;}\n",
       ".cython.score-66 {background-color: #FFFF21;}\n",
       ".cython.score-67 {background-color: #FFFF21;}\n",
       ".cython.score-68 {background-color: #FFFF20;}\n",
       ".cython.score-69 {background-color: #FFFF20;}\n",
       ".cython.score-70 {background-color: #FFFF1f;}\n",
       ".cython.score-71 {background-color: #FFFF1f;}\n",
       ".cython.score-72 {background-color: #FFFF1f;}\n",
       ".cython.score-73 {background-color: #FFFF1e;}\n",
       ".cython.score-74 {background-color: #FFFF1e;}\n",
       ".cython.score-75 {background-color: #FFFF1e;}\n",
       ".cython.score-76 {background-color: #FFFF1d;}\n",
       ".cython.score-77 {background-color: #FFFF1d;}\n",
       ".cython.score-78 {background-color: #FFFF1c;}\n",
       ".cython.score-79 {background-color: #FFFF1c;}\n",
       ".cython.score-80 {background-color: #FFFF1c;}\n",
       ".cython.score-81 {background-color: #FFFF1c;}\n",
       ".cython.score-82 {background-color: #FFFF1b;}\n",
       ".cython.score-83 {background-color: #FFFF1b;}\n",
       ".cython.score-84 {background-color: #FFFF1b;}\n",
       ".cython.score-85 {background-color: #FFFF1a;}\n",
       ".cython.score-86 {background-color: #FFFF1a;}\n",
       ".cython.score-87 {background-color: #FFFF1a;}\n",
       ".cython.score-88 {background-color: #FFFF1a;}\n",
       ".cython.score-89 {background-color: #FFFF19;}\n",
       ".cython.score-90 {background-color: #FFFF19;}\n",
       ".cython.score-91 {background-color: #FFFF19;}\n",
       ".cython.score-92 {background-color: #FFFF19;}\n",
       ".cython.score-93 {background-color: #FFFF18;}\n",
       ".cython.score-94 {background-color: #FFFF18;}\n",
       ".cython.score-95 {background-color: #FFFF18;}\n",
       ".cython.score-96 {background-color: #FFFF18;}\n",
       ".cython.score-97 {background-color: #FFFF17;}\n",
       ".cython.score-98 {background-color: #FFFF17;}\n",
       ".cython.score-99 {background-color: #FFFF17;}\n",
       ".cython.score-100 {background-color: #FFFF17;}\n",
       ".cython.score-101 {background-color: #FFFF16;}\n",
       ".cython.score-102 {background-color: #FFFF16;}\n",
       ".cython.score-103 {background-color: #FFFF16;}\n",
       ".cython.score-104 {background-color: #FFFF16;}\n",
       ".cython.score-105 {background-color: #FFFF16;}\n",
       ".cython.score-106 {background-color: #FFFF15;}\n",
       ".cython.score-107 {background-color: #FFFF15;}\n",
       ".cython.score-108 {background-color: #FFFF15;}\n",
       ".cython.score-109 {background-color: #FFFF15;}\n",
       ".cython.score-110 {background-color: #FFFF15;}\n",
       ".cython.score-111 {background-color: #FFFF15;}\n",
       ".cython.score-112 {background-color: #FFFF14;}\n",
       ".cython.score-113 {background-color: #FFFF14;}\n",
       ".cython.score-114 {background-color: #FFFF14;}\n",
       ".cython.score-115 {background-color: #FFFF14;}\n",
       ".cython.score-116 {background-color: #FFFF14;}\n",
       ".cython.score-117 {background-color: #FFFF14;}\n",
       ".cython.score-118 {background-color: #FFFF13;}\n",
       ".cython.score-119 {background-color: #FFFF13;}\n",
       ".cython.score-120 {background-color: #FFFF13;}\n",
       ".cython.score-121 {background-color: #FFFF13;}\n",
       ".cython.score-122 {background-color: #FFFF13;}\n",
       ".cython.score-123 {background-color: #FFFF13;}\n",
       ".cython.score-124 {background-color: #FFFF13;}\n",
       ".cython.score-125 {background-color: #FFFF12;}\n",
       ".cython.score-126 {background-color: #FFFF12;}\n",
       ".cython.score-127 {background-color: #FFFF12;}\n",
       ".cython.score-128 {background-color: #FFFF12;}\n",
       ".cython.score-129 {background-color: #FFFF12;}\n",
       ".cython.score-130 {background-color: #FFFF12;}\n",
       ".cython.score-131 {background-color: #FFFF12;}\n",
       ".cython.score-132 {background-color: #FFFF11;}\n",
       ".cython.score-133 {background-color: #FFFF11;}\n",
       ".cython.score-134 {background-color: #FFFF11;}\n",
       ".cython.score-135 {background-color: #FFFF11;}\n",
       ".cython.score-136 {background-color: #FFFF11;}\n",
       ".cython.score-137 {background-color: #FFFF11;}\n",
       ".cython.score-138 {background-color: #FFFF11;}\n",
       ".cython.score-139 {background-color: #FFFF11;}\n",
       ".cython.score-140 {background-color: #FFFF11;}\n",
       ".cython.score-141 {background-color: #FFFF10;}\n",
       ".cython.score-142 {background-color: #FFFF10;}\n",
       ".cython.score-143 {background-color: #FFFF10;}\n",
       ".cython.score-144 {background-color: #FFFF10;}\n",
       ".cython.score-145 {background-color: #FFFF10;}\n",
       ".cython.score-146 {background-color: #FFFF10;}\n",
       ".cython.score-147 {background-color: #FFFF10;}\n",
       ".cython.score-148 {background-color: #FFFF10;}\n",
       ".cython.score-149 {background-color: #FFFF10;}\n",
       ".cython.score-150 {background-color: #FFFF0f;}\n",
       ".cython.score-151 {background-color: #FFFF0f;}\n",
       ".cython.score-152 {background-color: #FFFF0f;}\n",
       ".cython.score-153 {background-color: #FFFF0f;}\n",
       ".cython.score-154 {background-color: #FFFF0f;}\n",
       ".cython.score-155 {background-color: #FFFF0f;}\n",
       ".cython.score-156 {background-color: #FFFF0f;}\n",
       ".cython.score-157 {background-color: #FFFF0f;}\n",
       ".cython.score-158 {background-color: #FFFF0f;}\n",
       ".cython.score-159 {background-color: #FFFF0f;}\n",
       ".cython.score-160 {background-color: #FFFF0f;}\n",
       ".cython.score-161 {background-color: #FFFF0e;}\n",
       ".cython.score-162 {background-color: #FFFF0e;}\n",
       ".cython.score-163 {background-color: #FFFF0e;}\n",
       ".cython.score-164 {background-color: #FFFF0e;}\n",
       ".cython.score-165 {background-color: #FFFF0e;}\n",
       ".cython.score-166 {background-color: #FFFF0e;}\n",
       ".cython.score-167 {background-color: #FFFF0e;}\n",
       ".cython.score-168 {background-color: #FFFF0e;}\n",
       ".cython.score-169 {background-color: #FFFF0e;}\n",
       ".cython.score-170 {background-color: #FFFF0e;}\n",
       ".cython.score-171 {background-color: #FFFF0e;}\n",
       ".cython.score-172 {background-color: #FFFF0e;}\n",
       ".cython.score-173 {background-color: #FFFF0d;}\n",
       ".cython.score-174 {background-color: #FFFF0d;}\n",
       ".cython.score-175 {background-color: #FFFF0d;}\n",
       ".cython.score-176 {background-color: #FFFF0d;}\n",
       ".cython.score-177 {background-color: #FFFF0d;}\n",
       ".cython.score-178 {background-color: #FFFF0d;}\n",
       ".cython.score-179 {background-color: #FFFF0d;}\n",
       ".cython.score-180 {background-color: #FFFF0d;}\n",
       ".cython.score-181 {background-color: #FFFF0d;}\n",
       ".cython.score-182 {background-color: #FFFF0d;}\n",
       ".cython.score-183 {background-color: #FFFF0d;}\n",
       ".cython.score-184 {background-color: #FFFF0d;}\n",
       ".cython.score-185 {background-color: #FFFF0d;}\n",
       ".cython.score-186 {background-color: #FFFF0d;}\n",
       ".cython.score-187 {background-color: #FFFF0c;}\n",
       ".cython.score-188 {background-color: #FFFF0c;}\n",
       ".cython.score-189 {background-color: #FFFF0c;}\n",
       ".cython.score-190 {background-color: #FFFF0c;}\n",
       ".cython.score-191 {background-color: #FFFF0c;}\n",
       ".cython.score-192 {background-color: #FFFF0c;}\n",
       ".cython.score-193 {background-color: #FFFF0c;}\n",
       ".cython.score-194 {background-color: #FFFF0c;}\n",
       ".cython.score-195 {background-color: #FFFF0c;}\n",
       ".cython.score-196 {background-color: #FFFF0c;}\n",
       ".cython.score-197 {background-color: #FFFF0c;}\n",
       ".cython.score-198 {background-color: #FFFF0c;}\n",
       ".cython.score-199 {background-color: #FFFF0c;}\n",
       ".cython.score-200 {background-color: #FFFF0c;}\n",
       ".cython.score-201 {background-color: #FFFF0c;}\n",
       ".cython.score-202 {background-color: #FFFF0c;}\n",
       ".cython.score-203 {background-color: #FFFF0b;}\n",
       ".cython.score-204 {background-color: #FFFF0b;}\n",
       ".cython.score-205 {background-color: #FFFF0b;}\n",
       ".cython.score-206 {background-color: #FFFF0b;}\n",
       ".cython.score-207 {background-color: #FFFF0b;}\n",
       ".cython.score-208 {background-color: #FFFF0b;}\n",
       ".cython.score-209 {background-color: #FFFF0b;}\n",
       ".cython.score-210 {background-color: #FFFF0b;}\n",
       ".cython.score-211 {background-color: #FFFF0b;}\n",
       ".cython.score-212 {background-color: #FFFF0b;}\n",
       ".cython.score-213 {background-color: #FFFF0b;}\n",
       ".cython.score-214 {background-color: #FFFF0b;}\n",
       ".cython.score-215 {background-color: #FFFF0b;}\n",
       ".cython.score-216 {background-color: #FFFF0b;}\n",
       ".cython.score-217 {background-color: #FFFF0b;}\n",
       ".cython.score-218 {background-color: #FFFF0b;}\n",
       ".cython.score-219 {background-color: #FFFF0b;}\n",
       ".cython.score-220 {background-color: #FFFF0b;}\n",
       ".cython.score-221 {background-color: #FFFF0b;}\n",
       ".cython.score-222 {background-color: #FFFF0a;}\n",
       ".cython.score-223 {background-color: #FFFF0a;}\n",
       ".cython.score-224 {background-color: #FFFF0a;}\n",
       ".cython.score-225 {background-color: #FFFF0a;}\n",
       ".cython.score-226 {background-color: #FFFF0a;}\n",
       ".cython.score-227 {background-color: #FFFF0a;}\n",
       ".cython.score-228 {background-color: #FFFF0a;}\n",
       ".cython.score-229 {background-color: #FFFF0a;}\n",
       ".cython.score-230 {background-color: #FFFF0a;}\n",
       ".cython.score-231 {background-color: #FFFF0a;}\n",
       ".cython.score-232 {background-color: #FFFF0a;}\n",
       ".cython.score-233 {background-color: #FFFF0a;}\n",
       ".cython.score-234 {background-color: #FFFF0a;}\n",
       ".cython.score-235 {background-color: #FFFF0a;}\n",
       ".cython.score-236 {background-color: #FFFF0a;}\n",
       ".cython.score-237 {background-color: #FFFF0a;}\n",
       ".cython.score-238 {background-color: #FFFF0a;}\n",
       ".cython.score-239 {background-color: #FFFF0a;}\n",
       ".cython.score-240 {background-color: #FFFF0a;}\n",
       ".cython.score-241 {background-color: #FFFF0a;}\n",
       ".cython.score-242 {background-color: #FFFF0a;}\n",
       ".cython.score-243 {background-color: #FFFF0a;}\n",
       ".cython.score-244 {background-color: #FFFF0a;}\n",
       ".cython.score-245 {background-color: #FFFF0a;}\n",
       ".cython.score-246 {background-color: #FFFF09;}\n",
       ".cython.score-247 {background-color: #FFFF09;}\n",
       ".cython.score-248 {background-color: #FFFF09;}\n",
       ".cython.score-249 {background-color: #FFFF09;}\n",
       ".cython.score-250 {background-color: #FFFF09;}\n",
       ".cython.score-251 {background-color: #FFFF09;}\n",
       ".cython.score-252 {background-color: #FFFF09;}\n",
       ".cython.score-253 {background-color: #FFFF09;}\n",
       ".cython.score-254 {background-color: #FFFF09;}\n",
       ".cython .hll { background-color: #ffffcc }\n",
       ".cython  { background: #f8f8f8; }\n",
       ".cython .c { color: #408080; font-style: italic } /* Comment */\n",
       ".cython .err { border: 1px solid #FF0000 } /* Error */\n",
       ".cython .k { color: #008000; font-weight: bold } /* Keyword */\n",
       ".cython .o { color: #666666 } /* Operator */\n",
       ".cython .ch { color: #408080; font-style: italic } /* Comment.Hashbang */\n",
       ".cython .cm { color: #408080; font-style: italic } /* Comment.Multiline */\n",
       ".cython .cp { color: #BC7A00 } /* Comment.Preproc */\n",
       ".cython .cpf { color: #408080; font-style: italic } /* Comment.PreprocFile */\n",
       ".cython .c1 { color: #408080; font-style: italic } /* Comment.Single */\n",
       ".cython .cs { color: #408080; font-style: italic } /* Comment.Special */\n",
       ".cython .gd { color: #A00000 } /* Generic.Deleted */\n",
       ".cython .ge { font-style: italic } /* Generic.Emph */\n",
       ".cython .gr { color: #FF0000 } /* Generic.Error */\n",
       ".cython .gh { color: #000080; font-weight: bold } /* Generic.Heading */\n",
       ".cython .gi { color: #00A000 } /* Generic.Inserted */\n",
       ".cython .go { color: #888888 } /* Generic.Output */\n",
       ".cython .gp { color: #000080; font-weight: bold } /* Generic.Prompt */\n",
       ".cython .gs { font-weight: bold } /* Generic.Strong */\n",
       ".cython .gu { color: #800080; font-weight: bold } /* Generic.Subheading */\n",
       ".cython .gt { color: #0044DD } /* Generic.Traceback */\n",
       ".cython .kc { color: #008000; font-weight: bold } /* Keyword.Constant */\n",
       ".cython .kd { color: #008000; font-weight: bold } /* Keyword.Declaration */\n",
       ".cython .kn { color: #008000; font-weight: bold } /* Keyword.Namespace */\n",
       ".cython .kp { color: #008000 } /* Keyword.Pseudo */\n",
       ".cython .kr { color: #008000; font-weight: bold } /* Keyword.Reserved */\n",
       ".cython .kt { color: #B00040 } /* Keyword.Type */\n",
       ".cython .m { color: #666666 } /* Literal.Number */\n",
       ".cython .s { color: #BA2121 } /* Literal.String */\n",
       ".cython .na { color: #7D9029 } /* Name.Attribute */\n",
       ".cython .nb { color: #008000 } /* Name.Builtin */\n",
       ".cython .nc { color: #0000FF; font-weight: bold } /* Name.Class */\n",
       ".cython .no { color: #880000 } /* Name.Constant */\n",
       ".cython .nd { color: #AA22FF } /* Name.Decorator */\n",
       ".cython .ni { color: #999999; font-weight: bold } /* Name.Entity */\n",
       ".cython .ne { color: #D2413A; font-weight: bold } /* Name.Exception */\n",
       ".cython .nf { color: #0000FF } /* Name.Function */\n",
       ".cython .nl { color: #A0A000 } /* Name.Label */\n",
       ".cython .nn { color: #0000FF; font-weight: bold } /* Name.Namespace */\n",
       ".cython .nt { color: #008000; font-weight: bold } /* Name.Tag */\n",
       ".cython .nv { color: #19177C } /* Name.Variable */\n",
       ".cython .ow { color: #AA22FF; font-weight: bold } /* Operator.Word */\n",
       ".cython .w { color: #bbbbbb } /* Text.Whitespace */\n",
       ".cython .mb { color: #666666 } /* Literal.Number.Bin */\n",
       ".cython .mf { color: #666666 } /* Literal.Number.Float */\n",
       ".cython .mh { color: #666666 } /* Literal.Number.Hex */\n",
       ".cython .mi { color: #666666 } /* Literal.Number.Integer */\n",
       ".cython .mo { color: #666666 } /* Literal.Number.Oct */\n",
       ".cython .sa { color: #BA2121 } /* Literal.String.Affix */\n",
       ".cython .sb { color: #BA2121 } /* Literal.String.Backtick */\n",
       ".cython .sc { color: #BA2121 } /* Literal.String.Char */\n",
       ".cython .dl { color: #BA2121 } /* Literal.String.Delimiter */\n",
       ".cython .sd { color: #BA2121; font-style: italic } /* Literal.String.Doc */\n",
       ".cython .s2 { color: #BA2121 } /* Literal.String.Double */\n",
       ".cython .se { color: #BB6622; font-weight: bold } /* Literal.String.Escape */\n",
       ".cython .sh { color: #BA2121 } /* Literal.String.Heredoc */\n",
       ".cython .si { color: #BB6688; font-weight: bold } /* Literal.String.Interpol */\n",
       ".cython .sx { color: #008000 } /* Literal.String.Other */\n",
       ".cython .sr { color: #BB6688 } /* Literal.String.Regex */\n",
       ".cython .s1 { color: #BA2121 } /* Literal.String.Single */\n",
       ".cython .ss { color: #19177C } /* Literal.String.Symbol */\n",
       ".cython .bp { color: #008000 } /* Name.Builtin.Pseudo */\n",
       ".cython .fm { color: #0000FF } /* Name.Function.Magic */\n",
       ".cython .vc { color: #19177C } /* Name.Variable.Class */\n",
       ".cython .vg { color: #19177C } /* Name.Variable.Global */\n",
       ".cython .vi { color: #19177C } /* Name.Variable.Instance */\n",
       ".cython .vm { color: #19177C } /* Name.Variable.Magic */\n",
       ".cython .il { color: #666666 } /* Literal.Number.Integer.Long */\n",
       "    </style>\n",
       "</head>\n",
       "<body class=\"cython\">\n",
       "<p><span style=\"border-bottom: solid 1px grey;\">Generated by Cython 0.29.5</span></p>\n",
       "<p>\n",
       "    <span style=\"background-color: #FFFF00\">Yellow lines</span> hint at Python interaction.<br />\n",
       "    Click on a line that starts with a \"<code>+</code>\" to see the C code that Cython generated for it.\n",
       "</p>\n",
       "<div class=\"cython\"><pre class=\"cython line score-0\">&#xA0;<span class=\"\">01</span>: <span class=\"k\">import</span> <span class=\"nn\">cython</span> <span class=\"k\">as</span> <span class=\"nn\">cy</span></pre>\n",
       "<pre class=\"cython line score-0\">&#xA0;<span class=\"\">02</span>: </pre>\n",
       "<pre class=\"cython line score-25\" onclick=\"(function(s){s.display=s.display==='block'?'none':'block'})(this.nextElementSibling.style)\">+<span class=\"\">03</span>: <span class=\"k\">def</span> <span class=\"nf\">count_with_cython</span><span class=\"p\">(</span><span class=\"nb\">int</span> <span class=\"n\">N</span><span class=\"p\">):</span></pre>\n",
       "<pre class='cython code score-25 '>/* Python wrapper */\n",
       "static PyObject *__pyx_pw_46_cython_magic_6bbeaf9778e75f3a80b8d700c01f22d7_1count_with_cython(PyObject *__pyx_self, PyObject *__pyx_arg_N); /*proto*/\n",
       "static PyMethodDef __pyx_mdef_46_cython_magic_6bbeaf9778e75f3a80b8d700c01f22d7_1count_with_cython = {\"count_with_cython\", (PyCFunction)__pyx_pw_46_cython_magic_6bbeaf9778e75f3a80b8d700c01f22d7_1count_with_cython, METH_O, 0};\n",
       "static PyObject *__pyx_pw_46_cython_magic_6bbeaf9778e75f3a80b8d700c01f22d7_1count_with_cython(PyObject *__pyx_self, PyObject *__pyx_arg_N) {\n",
       "  int __pyx_v_N;\n",
       "  PyObject *__pyx_r = 0;\n",
       "  <span class='refnanny'>__Pyx_RefNannyDeclarations</span>\n",
       "  <span class='refnanny'>__Pyx_RefNannySetupContext</span>(\"count_with_cython (wrapper)\", 0);\n",
       "  assert(__pyx_arg_N); {\n",
       "    __pyx_v_N = <span class='pyx_c_api'>__Pyx_PyInt_As_int</span>(__pyx_arg_N); if (unlikely((__pyx_v_N == (int)-1) &amp;&amp; <span class='py_c_api'>PyErr_Occurred</span>())) <span class='error_goto'>__PYX_ERR(0, 3, __pyx_L3_error)</span>\n",
       "  }\n",
       "  goto __pyx_L4_argument_unpacking_done;\n",
       "  __pyx_L3_error:;\n",
       "  <span class='pyx_c_api'>__Pyx_AddTraceback</span>(\"_cython_magic_6bbeaf9778e75f3a80b8d700c01f22d7.count_with_cython\", __pyx_clineno, __pyx_lineno, __pyx_filename);\n",
       "  <span class='refnanny'>__Pyx_RefNannyFinishContext</span>();\n",
       "  return NULL;\n",
       "  __pyx_L4_argument_unpacking_done:;\n",
       "  __pyx_r = __pyx_pf_46_cython_magic_6bbeaf9778e75f3a80b8d700c01f22d7_count_with_cython(__pyx_self, ((int)__pyx_v_N));\n",
       "\n",
       "  /* function exit code */\n",
       "  <span class='refnanny'>__Pyx_RefNannyFinishContext</span>();\n",
       "  return __pyx_r;\n",
       "}\n",
       "\n",
       "static PyObject *__pyx_pf_46_cython_magic_6bbeaf9778e75f3a80b8d700c01f22d7_count_with_cython(CYTHON_UNUSED PyObject *__pyx_self, int __pyx_v_N) {\n",
       "  CYTHON_UNUSED int __pyx_v_i;\n",
       "  int __pyx_v_a;\n",
       "  PyObject *__pyx_r = NULL;\n",
       "  <span class='refnanny'>__Pyx_RefNannyDeclarations</span>\n",
       "  <span class='refnanny'>__Pyx_RefNannySetupContext</span>(\"count_with_cython\", 0);\n",
       "/* … */\n",
       "  /* function exit code */\n",
       "  __pyx_L1_error:;\n",
       "  <span class='pyx_macro_api'>__Pyx_XDECREF</span>(__pyx_t_4);\n",
       "  <span class='pyx_c_api'>__Pyx_AddTraceback</span>(\"_cython_magic_6bbeaf9778e75f3a80b8d700c01f22d7.count_with_cython\", __pyx_clineno, __pyx_lineno, __pyx_filename);\n",
       "  __pyx_r = NULL;\n",
       "  __pyx_L0:;\n",
       "  <span class='refnanny'>__Pyx_XGIVEREF</span>(__pyx_r);\n",
       "  <span class='refnanny'>__Pyx_RefNannyFinishContext</span>();\n",
       "  return __pyx_r;\n",
       "}\n",
       "/* … */\n",
       "  __pyx_tuple_ = <span class='py_c_api'>PyTuple_Pack</span>(4, __pyx_n_s_N, __pyx_n_s_N, __pyx_n_s_i, __pyx_n_s_a);<span class='error_goto'> if (unlikely(!__pyx_tuple_)) __PYX_ERR(0, 3, __pyx_L1_error)</span>\n",
       "  <span class='refnanny'>__Pyx_GOTREF</span>(__pyx_tuple_);\n",
       "  <span class='refnanny'>__Pyx_GIVEREF</span>(__pyx_tuple_);\n",
       "/* … */\n",
       "  __pyx_t_1 = PyCFunction_NewEx(&amp;__pyx_mdef_46_cython_magic_6bbeaf9778e75f3a80b8d700c01f22d7_1count_with_cython, NULL, __pyx_n_s_cython_magic_6bbeaf9778e75f3a80);<span class='error_goto'> if (unlikely(!__pyx_t_1)) __PYX_ERR(0, 3, __pyx_L1_error)</span>\n",
       "  <span class='refnanny'>__Pyx_GOTREF</span>(__pyx_t_1);\n",
       "  if (<span class='py_c_api'>PyDict_SetItem</span>(__pyx_d, __pyx_n_s_count_with_cython, __pyx_t_1) &lt; 0) <span class='error_goto'>__PYX_ERR(0, 3, __pyx_L1_error)</span>\n",
       "  <span class='pyx_macro_api'>__Pyx_DECREF</span>(__pyx_t_1); __pyx_t_1 = 0;\n",
       "  __pyx_codeobj__2 = (PyObject*)<span class='pyx_c_api'>__Pyx_PyCode_New</span>(1, 0, 4, 0, CO_OPTIMIZED|CO_NEWLOCALS, __pyx_empty_bytes, __pyx_empty_tuple, __pyx_empty_tuple, __pyx_tuple_, __pyx_empty_tuple, __pyx_empty_tuple, __pyx_kp_s_home_xergioalex_cache_ipython_c, __pyx_n_s_count_with_cython, 3, __pyx_empty_bytes);<span class='error_goto'> if (unlikely(!__pyx_codeobj__2)) __PYX_ERR(0, 3, __pyx_L1_error)</span>\n",
       "</pre><pre class=\"cython line score-0\">&#xA0;<span class=\"\">04</span>:     <span class=\"k\">cdef</span> <span class=\"kt\">int</span> <span class=\"nf\">i</span></pre>\n",
       "<pre class=\"cython line score-0\" onclick=\"(function(s){s.display=s.display==='block'?'none':'block'})(this.nextElementSibling.style)\">+<span class=\"\">05</span>:     <span class=\"k\">cdef</span> <span class=\"kt\">int</span> <span class=\"nf\">a</span> <span class=\"o\">=</span> <span class=\"mf\">0</span></pre>\n",
       "<pre class='cython code score-0 '>  __pyx_v_a = 0;\n",
       "</pre><pre class=\"cython line score-0\">&#xA0;<span class=\"\">06</span>: </pre>\n",
       "<pre class=\"cython line score-0\" onclick=\"(function(s){s.display=s.display==='block'?'none':'block'})(this.nextElementSibling.style)\">+<span class=\"\">07</span>:     <span class=\"k\">for</span> <span class=\"n\">i</span> <span class=\"ow\">in</span> <span class=\"nb\">range</span><span class=\"p\">(</span><span class=\"n\">N</span><span class=\"p\">):</span></pre>\n",
       "<pre class='cython code score-0 '>  __pyx_t_1 = __pyx_v_N;\n",
       "  __pyx_t_2 = __pyx_t_1;\n",
       "  for (__pyx_t_3 = 0; __pyx_t_3 &lt; __pyx_t_2; __pyx_t_3+=1) {\n",
       "    __pyx_v_i = __pyx_t_3;\n",
       "</pre><pre class=\"cython line score-0\" onclick=\"(function(s){s.display=s.display==='block'?'none':'block'})(this.nextElementSibling.style)\">+<span class=\"\">08</span>:         <span class=\"n\">a</span> <span class=\"o\">+=</span> <span class=\"mf\">1</span></pre>\n",
       "<pre class='cython code score-0 '>    __pyx_v_a = (__pyx_v_a + 1);\n",
       "  }\n",
       "</pre><pre class=\"cython line score-0\">&#xA0;<span class=\"\">09</span>: </pre>\n",
       "<pre class=\"cython line score-3\" onclick=\"(function(s){s.display=s.display==='block'?'none':'block'})(this.nextElementSibling.style)\">+<span class=\"\">10</span>:     <span class=\"k\">return</span> <span class=\"n\">a</span></pre>\n",
       "<pre class='cython code score-3 '>  <span class='pyx_macro_api'>__Pyx_XDECREF</span>(__pyx_r);\n",
       "  __pyx_t_4 = <span class='pyx_c_api'>__Pyx_PyInt_From_int</span>(__pyx_v_a);<span class='error_goto'> if (unlikely(!__pyx_t_4)) __PYX_ERR(0, 10, __pyx_L1_error)</span>\n",
       "  <span class='refnanny'>__Pyx_GOTREF</span>(__pyx_t_4);\n",
       "  __pyx_r = __pyx_t_4;\n",
       "  __pyx_t_4 = 0;\n",
       "  goto __pyx_L0;\n",
       "</pre><pre class=\"cython line score-0\">&#xA0;<span class=\"\">11</span>: </pre>\n",
       "<pre class=\"cython line score-23\" onclick=\"(function(s){s.display=s.display==='block'?'none':'block'})(this.nextElementSibling.style)\">+<span class=\"\">12</span>: <span class=\"k\">def</span> <span class=\"nf\">count_with_cython_hints</span><span class=\"p\">(</span><span class=\"n\">N</span><span class=\"p\">:</span> <span class=\"n\">cy</span><span class=\"o\">.</span><span class=\"n\">int</span><span class=\"p\">):</span></pre>\n",
       "<pre class='cython code score-23 '>/* Python wrapper */\n",
       "static PyObject *__pyx_pw_46_cython_magic_6bbeaf9778e75f3a80b8d700c01f22d7_3count_with_cython_hints(PyObject *__pyx_self, PyObject *__pyx_arg_N); /*proto*/\n",
       "static PyMethodDef __pyx_mdef_46_cython_magic_6bbeaf9778e75f3a80b8d700c01f22d7_3count_with_cython_hints = {\"count_with_cython_hints\", (PyCFunction)__pyx_pw_46_cython_magic_6bbeaf9778e75f3a80b8d700c01f22d7_3count_with_cython_hints, METH_O, 0};\n",
       "static PyObject *__pyx_pw_46_cython_magic_6bbeaf9778e75f3a80b8d700c01f22d7_3count_with_cython_hints(PyObject *__pyx_self, PyObject *__pyx_arg_N) {\n",
       "  int __pyx_v_N;\n",
       "  PyObject *__pyx_r = 0;\n",
       "  <span class='refnanny'>__Pyx_RefNannyDeclarations</span>\n",
       "  <span class='refnanny'>__Pyx_RefNannySetupContext</span>(\"count_with_cython_hints (wrapper)\", 0);\n",
       "  assert(__pyx_arg_N); {\n",
       "    __pyx_v_N = <span class='pyx_c_api'>__Pyx_PyInt_As_int</span>(__pyx_arg_N); if (unlikely((__pyx_v_N == (int)-1) &amp;&amp; <span class='py_c_api'>PyErr_Occurred</span>())) <span class='error_goto'>__PYX_ERR(0, 12, __pyx_L3_error)</span>\n",
       "  }\n",
       "  goto __pyx_L4_argument_unpacking_done;\n",
       "  __pyx_L3_error:;\n",
       "  <span class='pyx_c_api'>__Pyx_AddTraceback</span>(\"_cython_magic_6bbeaf9778e75f3a80b8d700c01f22d7.count_with_cython_hints\", __pyx_clineno, __pyx_lineno, __pyx_filename);\n",
       "  <span class='refnanny'>__Pyx_RefNannyFinishContext</span>();\n",
       "  return NULL;\n",
       "  __pyx_L4_argument_unpacking_done:;\n",
       "  __pyx_r = __pyx_pf_46_cython_magic_6bbeaf9778e75f3a80b8d700c01f22d7_2count_with_cython_hints(__pyx_self, ((int)__pyx_v_N));\n",
       "\n",
       "  /* function exit code */\n",
       "  <span class='refnanny'>__Pyx_RefNannyFinishContext</span>();\n",
       "  return __pyx_r;\n",
       "}\n",
       "\n",
       "static PyObject *__pyx_pf_46_cython_magic_6bbeaf9778e75f3a80b8d700c01f22d7_2count_with_cython_hints(CYTHON_UNUSED PyObject *__pyx_self, int __pyx_v_N) {\n",
       "  int __pyx_v_a;\n",
       "  CYTHON_UNUSED int __pyx_v_i;\n",
       "  PyObject *__pyx_r = NULL;\n",
       "  <span class='refnanny'>__Pyx_RefNannyDeclarations</span>\n",
       "  <span class='refnanny'>__Pyx_RefNannySetupContext</span>(\"count_with_cython_hints\", 0);\n",
       "/* … */\n",
       "  /* function exit code */\n",
       "  __pyx_L1_error:;\n",
       "  <span class='pyx_macro_api'>__Pyx_XDECREF</span>(__pyx_t_4);\n",
       "  <span class='pyx_c_api'>__Pyx_AddTraceback</span>(\"_cython_magic_6bbeaf9778e75f3a80b8d700c01f22d7.count_with_cython_hints\", __pyx_clineno, __pyx_lineno, __pyx_filename);\n",
       "  __pyx_r = NULL;\n",
       "  __pyx_L0:;\n",
       "  <span class='refnanny'>__Pyx_XGIVEREF</span>(__pyx_r);\n",
       "  <span class='refnanny'>__Pyx_RefNannyFinishContext</span>();\n",
       "  return __pyx_r;\n",
       "}\n",
       "/* … */\n",
       "  __pyx_tuple__3 = <span class='py_c_api'>PyTuple_Pack</span>(4, __pyx_n_s_N, __pyx_n_s_N, __pyx_n_s_a, __pyx_n_s_i);<span class='error_goto'> if (unlikely(!__pyx_tuple__3)) __PYX_ERR(0, 12, __pyx_L1_error)</span>\n",
       "  <span class='refnanny'>__Pyx_GOTREF</span>(__pyx_tuple__3);\n",
       "  <span class='refnanny'>__Pyx_GIVEREF</span>(__pyx_tuple__3);\n",
       "/* … */\n",
       "  __pyx_t_1 = PyCFunction_NewEx(&amp;__pyx_mdef_46_cython_magic_6bbeaf9778e75f3a80b8d700c01f22d7_3count_with_cython_hints, NULL, __pyx_n_s_cython_magic_6bbeaf9778e75f3a80);<span class='error_goto'> if (unlikely(!__pyx_t_1)) __PYX_ERR(0, 12, __pyx_L1_error)</span>\n",
       "  <span class='refnanny'>__Pyx_GOTREF</span>(__pyx_t_1);\n",
       "  if (<span class='py_c_api'>PyDict_SetItem</span>(__pyx_d, __pyx_n_s_count_with_cython_hints, __pyx_t_1) &lt; 0) <span class='error_goto'>__PYX_ERR(0, 12, __pyx_L1_error)</span>\n",
       "  <span class='pyx_macro_api'>__Pyx_DECREF</span>(__pyx_t_1); __pyx_t_1 = 0;\n",
       "</pre><pre class=\"cython line score-0\" onclick=\"(function(s){s.display=s.display==='block'?'none':'block'})(this.nextElementSibling.style)\">+<span class=\"\">13</span>:     <span class=\"n\">a</span><span class=\"p\">:</span> <span class=\"n\">cy</span><span class=\"o\">.</span><span class=\"n\">int</span> <span class=\"o\">=</span> <span class=\"mf\">0</span></pre>\n",
       "<pre class='cython code score-0 '>  __pyx_v_a = 0;\n",
       "</pre><pre class=\"cython line score-0\">&#xA0;<span class=\"\">14</span>: </pre>\n",
       "<pre class=\"cython line score-0\" onclick=\"(function(s){s.display=s.display==='block'?'none':'block'})(this.nextElementSibling.style)\">+<span class=\"\">15</span>:     <span class=\"k\">for</span> <span class=\"n\">i</span> <span class=\"ow\">in</span> <span class=\"nb\">range</span><span class=\"p\">(</span><span class=\"n\">N</span><span class=\"p\">):</span></pre>\n",
       "<pre class='cython code score-0 '>  __pyx_t_1 = __pyx_v_N;\n",
       "  __pyx_t_2 = __pyx_t_1;\n",
       "  for (__pyx_t_3 = 0; __pyx_t_3 &lt; __pyx_t_2; __pyx_t_3+=1) {\n",
       "    __pyx_v_i = __pyx_t_3;\n",
       "</pre><pre class=\"cython line score-0\" onclick=\"(function(s){s.display=s.display==='block'?'none':'block'})(this.nextElementSibling.style)\">+<span class=\"\">16</span>:         <span class=\"n\">a</span> <span class=\"o\">+=</span> <span class=\"mf\">1</span></pre>\n",
       "<pre class='cython code score-0 '>    __pyx_v_a = (__pyx_v_a + 1);\n",
       "  }\n",
       "</pre><pre class=\"cython line score-0\">&#xA0;<span class=\"\">17</span>: </pre>\n",
       "<pre class=\"cython line score-3\" onclick=\"(function(s){s.display=s.display==='block'?'none':'block'})(this.nextElementSibling.style)\">+<span class=\"\">18</span>:     <span class=\"k\">return</span> <span class=\"n\">a</span></pre>\n",
       "<pre class='cython code score-3 '>  <span class='pyx_macro_api'>__Pyx_XDECREF</span>(__pyx_r);\n",
       "  __pyx_t_4 = <span class='pyx_c_api'>__Pyx_PyInt_From_int</span>(__pyx_v_a);<span class='error_goto'> if (unlikely(!__pyx_t_4)) __PYX_ERR(0, 18, __pyx_L1_error)</span>\n",
       "  <span class='refnanny'>__Pyx_GOTREF</span>(__pyx_t_4);\n",
       "  __pyx_r = __pyx_t_4;\n",
       "  __pyx_t_4 = 0;\n",
       "  goto __pyx_L0;\n",
       "</pre></div></body></html>"
      ],
      "text/plain": [
       "<IPython.core.display.HTML object>"
      ]
     },
     "execution_count": 4,
     "metadata": {},
     "output_type": "execute_result"
    }
   ],
   "source": [
    "%%cython -a\n",
    "import cython as cy\n",
    "\n",
    "def count_with_cython(int N):\n",
    "    cdef int i\n",
    "    cdef int a = 0\n",
    "    \n",
    "    for i in range(N):\n",
    "        a += 1\n",
    "    \n",
    "    return a\n",
    "\n",
    "def count_with_cython_hints(N: cy.int):\n",
    "    a: cy.int = 0\n",
    "    \n",
    "    for i in range(N):\n",
    "        a += 1\n",
    "    \n",
    "    return a"
   ]
  },
  {
   "cell_type": "markdown",
   "metadata": {
    "slideshow": {
     "slide_type": "subslide"
    }
   },
   "source": [
    "## numba code"
   ]
  },
  {
   "cell_type": "code",
   "execution_count": 11,
   "metadata": {
    "slideshow": {
     "slide_type": "fragment"
    }
   },
   "outputs": [],
   "source": [
    "import numba\n",
    "\n",
    "@numba.jit()\n",
    "def count_with_numba(N: int):\n",
    "    a: int = 0\n",
    "    \n",
    "    for i in range(N):\n",
    "        a += 1\n",
    "    \n",
    "    return a"
   ]
  },
  {
   "cell_type": "markdown",
   "metadata": {
    "slideshow": {
     "slide_type": "subslide"
    }
   },
   "source": [
    "# Benchmarks"
   ]
  },
  {
   "cell_type": "code",
   "execution_count": 12,
   "metadata": {
    "slideshow": {
     "slide_type": "fragment"
    }
   },
   "outputs": [
    {
     "name": "stdout",
     "output_type": "stream",
     "text": [
      "36.293139696121216\n"
     ]
    }
   ],
   "source": [
    "import time\n",
    "\n",
    "python_start = time.time()\n",
    "count_with_python(1_000_000_000)\n",
    "python_time = time.time() - python_start\n",
    "\n",
    "print(python_time)"
   ]
  },
  {
   "cell_type": "code",
   "execution_count": 16,
   "metadata": {
    "slideshow": {
     "slide_type": "subslide"
    }
   },
   "outputs": [
    {
     "name": "stdout",
     "output_type": "stream",
     "text": [
      "1087317.5785714285\n"
     ]
    }
   ],
   "source": [
    "import time\n",
    "\n",
    "count_with_numba(1_000_000_000)\n",
    "\n",
    "numba_start = time.time()\n",
    "count_with_numba(1_000_000_000)\n",
    "numba_time = time.time() - numba_start\n",
    "\n",
    "print(python_time / numba_time)"
   ]
  },
  {
   "cell_type": "code",
   "execution_count": 17,
   "metadata": {
    "slideshow": {
     "slide_type": "fragment"
    }
   },
   "outputs": [
    {
     "name": "stdout",
     "output_type": "stream",
     "text": [
      "4.5299530029296875e-05\n"
     ]
    }
   ],
   "source": [
    "import time\n",
    "\n",
    "cython_start = time.time()\n",
    "count_with_cython(1_000_000_000)\n",
    "cython_time = time.time() - cython_start\n",
    "\n",
    "print(cython_time)"
   ]
  },
  {
   "cell_type": "markdown",
   "metadata": {
    "slideshow": {
     "slide_type": "subslide"
    }
   },
   "source": [
    "# AsyncIO"
   ]
  },
  {
   "cell_type": "code",
   "execution_count": 18,
   "metadata": {
    "slideshow": {
     "slide_type": "fragment"
    }
   },
   "outputs": [],
   "source": [
    "async def ping(coroutines_map, value):\n",
    "    print('ping')\n",
    "    if value > 0 :\n",
    "        value = await coroutines_map[value % 2](coroutines_map, value - 1)\n",
    "    return value\n",
    "\n",
    "async def pong(coroutines_map, value):\n",
    "    print('pong')\n",
    "    if value > 0 :\n",
    "        value = await coroutines_map[value % 2](coroutines_map, value - 1)\n",
    "    return value"
   ]
  },
  {
   "cell_type": "code",
   "execution_count": 9,
   "metadata": {
    "scrolled": true,
    "slideshow": {
     "slide_type": "fragment"
    }
   },
   "outputs": [
    {
     "ename": "RuntimeError",
     "evalue": "This event loop is already running",
     "output_type": "error",
     "traceback": [
      "\u001b[0;31m---------------------------------------------------------------------------\u001b[0m",
      "\u001b[0;31mRuntimeError\u001b[0m                              Traceback (most recent call last)",
      "\u001b[0;32m<ipython-input-9-b55d7cd7823f>\u001b[0m in \u001b[0;36m<module>\u001b[0;34m\u001b[0m\n\u001b[1;32m      2\u001b[0m \u001b[0;34m\u001b[0m\u001b[0m\n\u001b[1;32m      3\u001b[0m \u001b[0mloop\u001b[0m \u001b[0;34m=\u001b[0m \u001b[0masyncio\u001b[0m\u001b[0;34m.\u001b[0m\u001b[0mget_event_loop\u001b[0m\u001b[0;34m(\u001b[0m\u001b[0;34m)\u001b[0m\u001b[0;34m\u001b[0m\u001b[0;34m\u001b[0m\u001b[0m\n\u001b[0;32m----> 4\u001b[0;31m \u001b[0mresult\u001b[0m \u001b[0;34m=\u001b[0m \u001b[0mloop\u001b[0m\u001b[0;34m.\u001b[0m\u001b[0mrun_until_complete\u001b[0m\u001b[0;34m(\u001b[0m\u001b[0mping\u001b[0m\u001b[0;34m(\u001b[0m\u001b[0;34m{\u001b[0m\u001b[0;36m0\u001b[0m\u001b[0;34m:\u001b[0m \u001b[0mping\u001b[0m\u001b[0;34m,\u001b[0m \u001b[0;36m1\u001b[0m\u001b[0;34m:\u001b[0m \u001b[0mpong\u001b[0m\u001b[0;34m}\u001b[0m\u001b[0;34m,\u001b[0m \u001b[0;36m10\u001b[0m\u001b[0;34m)\u001b[0m\u001b[0;34m)\u001b[0m\u001b[0;34m\u001b[0m\u001b[0;34m\u001b[0m\u001b[0m\n\u001b[0m",
      "\u001b[0;32m/usr/lib/python3.6/asyncio/base_events.py\u001b[0m in \u001b[0;36mrun_until_complete\u001b[0;34m(self, future)\u001b[0m\n\u001b[1;32m    458\u001b[0m         \u001b[0mfuture\u001b[0m\u001b[0;34m.\u001b[0m\u001b[0madd_done_callback\u001b[0m\u001b[0;34m(\u001b[0m\u001b[0m_run_until_complete_cb\u001b[0m\u001b[0;34m)\u001b[0m\u001b[0;34m\u001b[0m\u001b[0;34m\u001b[0m\u001b[0m\n\u001b[1;32m    459\u001b[0m         \u001b[0;32mtry\u001b[0m\u001b[0;34m:\u001b[0m\u001b[0;34m\u001b[0m\u001b[0;34m\u001b[0m\u001b[0m\n\u001b[0;32m--> 460\u001b[0;31m             \u001b[0mself\u001b[0m\u001b[0;34m.\u001b[0m\u001b[0mrun_forever\u001b[0m\u001b[0;34m(\u001b[0m\u001b[0;34m)\u001b[0m\u001b[0;34m\u001b[0m\u001b[0;34m\u001b[0m\u001b[0m\n\u001b[0m\u001b[1;32m    461\u001b[0m         \u001b[0;32mexcept\u001b[0m\u001b[0;34m:\u001b[0m\u001b[0;34m\u001b[0m\u001b[0;34m\u001b[0m\u001b[0m\n\u001b[1;32m    462\u001b[0m             \u001b[0;32mif\u001b[0m \u001b[0mnew_task\u001b[0m \u001b[0;32mand\u001b[0m \u001b[0mfuture\u001b[0m\u001b[0;34m.\u001b[0m\u001b[0mdone\u001b[0m\u001b[0;34m(\u001b[0m\u001b[0;34m)\u001b[0m \u001b[0;32mand\u001b[0m \u001b[0;32mnot\u001b[0m \u001b[0mfuture\u001b[0m\u001b[0;34m.\u001b[0m\u001b[0mcancelled\u001b[0m\u001b[0;34m(\u001b[0m\u001b[0;34m)\u001b[0m\u001b[0;34m:\u001b[0m\u001b[0;34m\u001b[0m\u001b[0;34m\u001b[0m\u001b[0m\n",
      "\u001b[0;32m/usr/lib/python3.6/asyncio/base_events.py\u001b[0m in \u001b[0;36mrun_forever\u001b[0;34m(self)\u001b[0m\n\u001b[1;32m    412\u001b[0m         \u001b[0mself\u001b[0m\u001b[0;34m.\u001b[0m\u001b[0m_check_closed\u001b[0m\u001b[0;34m(\u001b[0m\u001b[0;34m)\u001b[0m\u001b[0;34m\u001b[0m\u001b[0;34m\u001b[0m\u001b[0m\n\u001b[1;32m    413\u001b[0m         \u001b[0;32mif\u001b[0m \u001b[0mself\u001b[0m\u001b[0;34m.\u001b[0m\u001b[0mis_running\u001b[0m\u001b[0;34m(\u001b[0m\u001b[0;34m)\u001b[0m\u001b[0;34m:\u001b[0m\u001b[0;34m\u001b[0m\u001b[0;34m\u001b[0m\u001b[0m\n\u001b[0;32m--> 414\u001b[0;31m             \u001b[0;32mraise\u001b[0m \u001b[0mRuntimeError\u001b[0m\u001b[0;34m(\u001b[0m\u001b[0;34m'This event loop is already running'\u001b[0m\u001b[0;34m)\u001b[0m\u001b[0;34m\u001b[0m\u001b[0;34m\u001b[0m\u001b[0m\n\u001b[0m\u001b[1;32m    415\u001b[0m         \u001b[0;32mif\u001b[0m \u001b[0mevents\u001b[0m\u001b[0;34m.\u001b[0m\u001b[0m_get_running_loop\u001b[0m\u001b[0;34m(\u001b[0m\u001b[0;34m)\u001b[0m \u001b[0;32mis\u001b[0m \u001b[0;32mnot\u001b[0m \u001b[0;32mNone\u001b[0m\u001b[0;34m:\u001b[0m\u001b[0;34m\u001b[0m\u001b[0;34m\u001b[0m\u001b[0m\n\u001b[1;32m    416\u001b[0m             raise RuntimeError(\n",
      "\u001b[0;31mRuntimeError\u001b[0m: This event loop is already running"
     ]
    },
    {
     "name": "stdout",
     "output_type": "stream",
     "text": [
      "ping\n",
      "ping\n",
      "pong\n",
      "ping\n",
      "pong\n",
      "ping\n",
      "pong\n",
      "ping\n",
      "pong\n",
      "ping\n",
      "pong\n"
     ]
    }
   ],
   "source": [
    "import asyncio\n",
    "\n",
    "loop = asyncio.get_event_loop()\n",
    "result = loop.run_until_complete(ping({0: ping, 1: pong}, 10))"
   ]
  },
  {
   "cell_type": "markdown",
   "metadata": {
    "slideshow": {
     "slide_type": "subslide"
    }
   },
   "source": [
    "## Round y decimals"
   ]
  },
  {
   "cell_type": "code",
   "execution_count": 15,
   "metadata": {
    "slideshow": {
     "slide_type": "fragment"
    }
   },
   "outputs": [
    {
     "data": {
      "text/plain": [
       "2"
      ]
     },
     "execution_count": 15,
     "metadata": {},
     "output_type": "execute_result"
    }
   ],
   "source": [
    "round(1.5)"
   ]
  },
  {
   "cell_type": "code",
   "execution_count": 19,
   "metadata": {
    "slideshow": {
     "slide_type": "fragment"
    }
   },
   "outputs": [
    {
     "data": {
      "text/plain": [
       "2"
      ]
     },
     "execution_count": 19,
     "metadata": {},
     "output_type": "execute_result"
    }
   ],
   "source": [
    "round(2.5)"
   ]
  },
  {
   "cell_type": "code",
   "execution_count": 25,
   "metadata": {
    "slideshow": {
     "slide_type": "fragment"
    }
   },
   "outputs": [
    {
     "data": {
      "text/plain": [
       "Decimal('3')"
      ]
     },
     "execution_count": 25,
     "metadata": {},
     "output_type": "execute_result"
    }
   ],
   "source": [
    "from decimal import Decimal, ROUND_DOWN, ROUND_UP, ROUND_HALF_UP, ROUND_HALF_DOWN \n",
    "Decimal('2.56').quantize(Decimal('1.'), rounding=ROUND_UP) "
   ]
  },
  {
   "cell_type": "markdown",
   "metadata": {
    "slideshow": {
     "slide_type": "subslide"
    }
   },
   "source": [
    "# Dash\n",
    "\n",
    "https://dash-drug-explorer.plot.ly/"
   ]
  },
  {
   "cell_type": "code",
   "execution_count": 10,
   "metadata": {
    "slideshow": {
     "slide_type": "fragment"
    }
   },
   "outputs": [
    {
     "data": {
      "text/html": [
       "<div>\n",
       "  <iframe src=\"/app/endpoints/99a989b8e57f432c928e8302622cf448/\" width=800 height=600 frameborder=\"0\"></iframe>\n",
       "  <hr/><a href=\"/app/endpoints/99a989b8e57f432c928e8302622cf448/\" target=\"_new\">Open in new window</a> for /app/endpoints/99a989b8e57f432c928e8302622cf448/\n",
       "</div>"
      ],
      "text/plain": [
       "<jupyter_plotly_dash.dash_wrapper.JupyterDash at 0x7f7f44832390>"
      ]
     },
     "execution_count": 10,
     "metadata": {},
     "output_type": "execute_result"
    }
   ],
   "source": [
    "from jupyter_plotly_dash import JupyterDash\n",
    "\n",
    "from dash.dependencies import Input, Output\n",
    "import dash_core_components as dcc\n",
    "import dash_html_components as html\n",
    "\n",
    "import flask\n",
    "import pandas as pd\n",
    "import time\n",
    "import os\n",
    "\n",
    "\n",
    "app = JupyterDash('SimpleExample')\n",
    "\n",
    "df = pd.read_csv('https://raw.githubusercontent.com/plotly/datasets/master/hello-world-stock.csv')\n",
    "\n",
    "\n",
    "dcc._js_dist[0]['external_url'] = 'https://cdn.plot.ly/plotly-basic-latest.min.js'\n",
    "\n",
    "app.layout = html.Div([\n",
    "    html.H1('Stock Tickers'),\n",
    "    dcc.Dropdown(\n",
    "        id='my-dropdown',\n",
    "        options=[\n",
    "            {'label': 'Tesla', 'value': 'TSLA'},\n",
    "            {'label': 'Apple', 'value': 'AAPL'},\n",
    "            {'label': 'Coke', 'value': 'COKE'}\n",
    "        ],\n",
    "        value='TSLA'\n",
    "    ),\n",
    "    dcc.Graph(id='my-graph')\n",
    "], className=\"container\")\n",
    "\n",
    "@app.callback(\n",
    "    Output('my-graph', 'figure'), [Input('my-dropdown', 'value')]\n",
    ")\n",
    "def update_graph(selected_dropdown_value):\n",
    "    dff = df[df['Stock'] == selected_dropdown_value]\n",
    "    return {\n",
    "        'data': [{\n",
    "            'x': dff.Date,\n",
    "            'y': dff.Close,\n",
    "            'line': {\n",
    "                'width': 3,\n",
    "                'shape': 'spline'\n",
    "            }\n",
    "        }],\n",
    "        'layout': {\n",
    "            'margin': {\n",
    "                'l': 30,\n",
    "                'r': 20,\n",
    "                'b': 30,\n",
    "                't': 20\n",
    "            }\n",
    "        }\n",
    "    }\n",
    "\n",
    "app"
   ]
  },
  {
   "cell_type": "markdown",
   "metadata": {
    "slideshow": {
     "slide_type": "slide"
    }
   },
   "source": [
    "# El futuro de python\n",
    "\n",
    "https://speakerdeck.com/willingc/python-and-jupyter-looking-to-the-future\n",
    "\n",
    "![](pictures/keynotes2.png)\n",
    "\n",
    "\n",
    "- Jupyter [https://jupyter.org/](https://jupyter.org/)\n",
    "    - JupyterHub: [htps://github.com/jupyterhub/jupyterhub](htps://github.com/jupyterhub/jupyterhub)\n",
    "    - JuypterLabs [https://github.com/jupyterlab/jupyterlab](https://github.com/jupyterlab/jupyterlab)\n",
    "    - MyBinder: https://mybinder.org/\n"
   ]
  },
  {
   "cell_type": "markdown",
   "metadata": {
    "slideshow": {
     "slide_type": "subslide"
    }
   },
   "source": [
    "## 1. Ejecutar python en el navegador\n",
    "\n",
    "- Javascript and Web Assembly\n",
    "    - Productive Interactions with Python"
   ]
  },
  {
   "cell_type": "markdown",
   "metadata": {
    "slideshow": {
     "slide_type": "fragment"
    }
   },
   "source": [
    "- The web\n",
    "- Python and Javascript\n",
    "- Universal Platform"
   ]
  },
  {
   "cell_type": "markdown",
   "metadata": {
    "slideshow": {
     "slide_type": "subslide"
    }
   },
   "source": [
    "## 2. Distribuir paquetes\n",
    "\n",
    "- User Installation Experience\n",
    "    - Double click install"
   ]
  },
  {
   "cell_type": "markdown",
   "metadata": {
    "slideshow": {
     "slide_type": "fragment"
    }
   },
   "source": [
    "- BeeWare\n",
    "    - Build native apps with Python\n",
    "    - https://pybee.org/"
   ]
  },
  {
   "cell_type": "markdown",
   "metadata": {
    "slideshow": {
     "slide_type": "subslide"
    }
   },
   "source": [
    "## 3. Python en moviles\n",
    "- Portable for Global Users\n",
    "- On demand"
   ]
  },
  {
   "cell_type": "markdown",
   "metadata": {
    "slideshow": {
     "slide_type": "fragment"
    }
   },
   "source": [
    "- Accesible science\n",
    "    - Web\n",
    "    - Mobile\n",
    "    - Tables"
   ]
  },
  {
   "cell_type": "markdown",
   "metadata": {
    "slideshow": {
     "slide_type": "slide"
    }
   },
   "source": [
    "### Conclusiones y experiencia\n",
    "- Que es lo bueno de ir a estos eventos\n",
    "- Por qué ir"
   ]
  },
  {
   "cell_type": "markdown",
   "metadata": {
    "slideshow": {
     "slide_type": "fragment"
    }
   },
   "source": []
  },
  {
   "cell_type": "code",
   "execution_count": null,
   "metadata": {},
   "outputs": [],
   "source": []
  }
 ],
 "metadata": {
  "celltoolbar": "Slideshow",
  "kernelspec": {
   "display_name": "Python 3",
   "language": "python",
   "name": "python3"
  },
  "language_info": {
   "codemirror_mode": {
    "name": "ipython",
    "version": 3
   },
   "file_extension": ".py",
   "mimetype": "text/x-python",
   "name": "python",
   "nbconvert_exporter": "python",
   "pygments_lexer": "ipython3",
   "version": "3.6.7"
  }
 },
 "nbformat": 4,
 "nbformat_minor": 2
}
