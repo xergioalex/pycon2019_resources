{
 "cells": [
  {
   "cell_type": "markdown",
   "metadata": {},
   "source": [
    "# PYCON 2019 RESOURCES"
   ]
  },
  {
   "cell_type": "markdown",
   "metadata": {},
   "source": [
    "1. Que fue la PyCon? (Sergio)\n",
    "2. Focos principales, temáticas (Nelson)\n",
    "- IoT\n",
    "- IA- Machine Learning\n",
    "- Ciencia y visualización de datos (dash)\n",
    "- Web server\n",
    "- Comunidad y historias de guerra, sociales\n",
    "\n",
    "3. Charlas destacadas y demos. (Sergio y Nelson)\n",
    "- Dash (Nelson)\n",
    "- Style transfer learning (Sergio)\n",
    "- Async IO Balanceo heterogeneo de cargas (Nelson)\n",
    "- Going Serverless (Going functions as a service) (Sergio)\n",
    "- Bigquery (Nelson)\n",
    "- Automatización de pruebas con selenium (Sergio)\n",
    "- Elastic Search(Sergio)\n",
    "\n",
    "3.1 Demos \n",
    "- Numba, cython, async io (Nelson)\n",
    "- round(1.5) round(2.5) fun facts (Nelson)\n",
    "- Elastic Search(Sergio)\n",
    "- dash (Nelson)\n",
    "- Style transfer learning (Sergio)\n",
    "-\n",
    "\n",
    "4. Hacia donde va Python (Nelson)\n",
    "- 1. Cómo ejecutar python en el navegador\n",
    "- 2. Cómo distribuir binarios (Cómo hacemos para distribuir python, .exe etc, portable)\n",
    "- 3. Cómo conseguimos ejecutar python en un movil\n",
    "\n",
    "\n",
    "5. Conclusiones y expericia (Sergio y Nelson)\n",
    "- Que es lo bueno de ir a estos eventos\n",
    "- Por qué ir"
   ]
  },
  {
   "cell_type": "markdown",
   "metadata": {},
   "source": []
  },
  {
   "cell_type": "code",
   "execution_count": null,
   "metadata": {},
   "outputs": [],
   "source": []
  },
  {
   "cell_type": "code",
   "execution_count": null,
   "metadata": {},
   "outputs": [],
   "source": []
  }
 ],
 "metadata": {
  "kernelspec": {
   "display_name": "Python 3",
   "language": "python",
   "name": "python3"
  },
  "language_info": {
   "codemirror_mode": {
    "name": "ipython",
    "version": 3
   },
   "file_extension": ".py",
   "mimetype": "text/x-python",
   "name": "python",
   "nbconvert_exporter": "python",
   "pygments_lexer": "ipython3",
   "version": "3.5.2"
  }
 },
 "nbformat": 4,
 "nbformat_minor": 2
}
